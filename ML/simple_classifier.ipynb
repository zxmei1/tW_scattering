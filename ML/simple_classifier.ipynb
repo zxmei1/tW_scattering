{
 "cells": [
  {
   "cell_type": "markdown",
   "metadata": {},
   "source": [
    "# A simple example for machine learning with uproot / coffea\n",
    "\n",
    "Let's try to distinguish DY from ttW with just using rather low level inputs, and then compare to a simple M(ll) based discriminator."
   ]
  },
  {
   "cell_type": "code",
   "execution_count": 1,
   "metadata": {},
   "outputs": [
    {
     "name": "stderr",
     "output_type": "stream",
     "text": [
      "/cvmfs/cms.cern.ch/slc6_amd64_gcc700/external/py2-tensorflow/1.6.0-gnimlf4/lib/python3.6/site-packages/tensorflow/python/framework/dtypes.py:517: FutureWarning: Passing (type, 1) or '1type' as a synonym of type is deprecated; in a future version of numpy, it will be understood as (type, (1,)) / '(1,)type'.\n",
      "  _np_qint8 = np.dtype([(\"qint8\", np.int8, 1)])\n",
      "/cvmfs/cms.cern.ch/slc6_amd64_gcc700/external/py2-tensorflow/1.6.0-gnimlf4/lib/python3.6/site-packages/tensorflow/python/framework/dtypes.py:518: FutureWarning: Passing (type, 1) or '1type' as a synonym of type is deprecated; in a future version of numpy, it will be understood as (type, (1,)) / '(1,)type'.\n",
      "  _np_quint8 = np.dtype([(\"quint8\", np.uint8, 1)])\n",
      "/cvmfs/cms.cern.ch/slc6_amd64_gcc700/external/py2-tensorflow/1.6.0-gnimlf4/lib/python3.6/site-packages/tensorflow/python/framework/dtypes.py:519: FutureWarning: Passing (type, 1) or '1type' as a synonym of type is deprecated; in a future version of numpy, it will be understood as (type, (1,)) / '(1,)type'.\n",
      "  _np_qint16 = np.dtype([(\"qint16\", np.int16, 1)])\n",
      "/cvmfs/cms.cern.ch/slc6_amd64_gcc700/external/py2-tensorflow/1.6.0-gnimlf4/lib/python3.6/site-packages/tensorflow/python/framework/dtypes.py:520: FutureWarning: Passing (type, 1) or '1type' as a synonym of type is deprecated; in a future version of numpy, it will be understood as (type, (1,)) / '(1,)type'.\n",
      "  _np_quint16 = np.dtype([(\"quint16\", np.uint16, 1)])\n",
      "/cvmfs/cms.cern.ch/slc6_amd64_gcc700/external/py2-tensorflow/1.6.0-gnimlf4/lib/python3.6/site-packages/tensorflow/python/framework/dtypes.py:521: FutureWarning: Passing (type, 1) or '1type' as a synonym of type is deprecated; in a future version of numpy, it will be understood as (type, (1,)) / '(1,)type'.\n",
      "  _np_qint32 = np.dtype([(\"qint32\", np.int32, 1)])\n",
      "/cvmfs/cms.cern.ch/slc6_amd64_gcc700/external/py2-tensorflow/1.6.0-gnimlf4/lib/python3.6/site-packages/tensorflow/python/framework/dtypes.py:526: FutureWarning: Passing (type, 1) or '1type' as a synonym of type is deprecated; in a future version of numpy, it will be understood as (type, (1,)) / '(1,)type'.\n",
      "  np_resource = np.dtype([(\"resource\", np.ubyte, 1)])\n"
     ]
    }
   ],
   "source": [
    "import uproot\n",
    "import awkward\n",
    "import numpy as np\n",
    "import pandas as pd\n",
    "from uproot_methods import TLorentzVectorArray\n",
    "\n",
    "from coffea.processor import LazyDataFrame\n",
    "from coffea.analysis_objects import JaggedCandidateArray\n",
    "\n",
    "%matplotlib inline\n",
    "import matplotlib\n",
    "import matplotlib.pyplot as plt\n",
    "from matplotlib.colors import LogNorm\n",
    "\n",
    "import tensorflow as tf"
   ]
  },
  {
   "cell_type": "code",
   "execution_count": 2,
   "metadata": {},
   "outputs": [],
   "source": [
    "from sklearn.metrics import roc_curve, roc_auc_score, auc\n",
    "from sklearn.model_selection import train_test_split"
   ]
  },
  {
   "cell_type": "code",
   "execution_count": 3,
   "metadata": {},
   "outputs": [
    {
     "name": "stdout",
     "output_type": "stream",
     "text": [
      "Have 63189 signal events and 392177 background events\n"
     ]
    }
   ],
   "source": [
    "\n",
    "# Load some prepared data\n",
    "sig_file = uproot.open('DY.root')\n",
    "bkg_file = uproot.open('bkg.root')\n",
    "\n",
    "bkg_tree = bkg_file['Events']\n",
    "sig_tree = sig_file['Events']\n",
    "bkg = LazyDataFrame(bkg_tree, flatten=True)\n",
    "sig = LazyDataFrame(sig_tree, flatten=True)\n",
    "\n",
    "print (\"Have %s signal events and %s background events\"%(len(sig['MET_phi']), len(bkg['MET_phi'])))\n"
   ]
  },
  {
   "cell_type": "code",
   "execution_count": 4,
   "metadata": {},
   "outputs": [],
   "source": [
    "## Preprocessing data. This is rather slow, so probably building a custom data frame or dictionary would make more sense\n",
    "#sig_df_in = sig_tree.pandas.df(flatten=False)\n",
    "#bkg_df_in = bkg_tree.pandas.df(flatten=False)\n"
   ]
  },
  {
   "cell_type": "code",
   "execution_count": 5,
   "metadata": {},
   "outputs": [],
   "source": [
    "def convertToDF( df ):\n",
    "\n",
    "    eventSelection = ( (df['nLepton']==2) & (df['nVetoLepton']==2) )\n",
    "    #df = df[eventSelection]\n",
    "    \n",
    "    jets = JaggedCandidateArray.candidatesfromcounts(\n",
    "        df['nJet'],\n",
    "        pt=df['Jet_pt'],\n",
    "        eta=df['Jet_eta'],\n",
    "        phi=df['Jet_phi'],\n",
    "        mass=df['Jet_mass'],\n",
    "        btag=df['Jet_btagDeepB'],\n",
    "    )\n",
    "    \n",
    "    leptons = JaggedCandidateArray.candidatesfromcounts(\n",
    "        df['nLepton'],\n",
    "        pt=df['Lepton_pt'],\n",
    "        eta=df['Lepton_eta'],\n",
    "        phi=df['Lepton_phi'],\n",
    "        mass= df['Lepton_mass'],\n",
    "        charge=df['Lepton_pdgId']/abs(df['Lepton_pdgId'])\n",
    "    )\n",
    "\n",
    "    leadingJet = jets[jets.pt.argmax()]\n",
    "    leadingJet = leadingJet[eventSelection]\n",
    "    \n",
    "    leptons = leptons[eventSelection]\n",
    "    \n",
    "    leadingLepton = leptons[leptons.pt.argmax()]\n",
    "    \n",
    "    subleadingLepton = leptons[leptons.pt.argmin()] # this works because we select events with just two leptons in the end\n",
    "    \n",
    "    dileptons = leptons.choose(2)\n",
    "    \n",
    "    met = pd.DataFrame({'pt':df['MET_pt'], 'phi':df['MET_phi']}) # there should be a better way than this, but otherwise can't select events\n",
    "    \n",
    "    met = met[eventSelection]\n",
    "    \n",
    "    return pd.DataFrame({\n",
    "            'leadingJet_pt':leadingJet.pt.flatten(), \n",
    "            'lep0_pt':dileptons.i0.pt.flatten(),\n",
    "            'lep0_eta':dileptons.i0.eta.flatten(),\n",
    "            'lep0_phi':dileptons.i0.phi.flatten(),\n",
    "            'lep0_charge':dileptons.i0.charge.flatten(),\n",
    "            'lep0_mass':dileptons.i0.mass.flatten(),\n",
    "            'lep1_pt':dileptons.i1.pt.flatten(),\n",
    "            'lep1_eta':dileptons.i1.eta.flatten(),\n",
    "            'lep1_phi':dileptons.i1.phi.flatten(),\n",
    "            'lep1_charge':dileptons.i1.charge.flatten(),\n",
    "            'lep1_mass':dileptons.i1.mass.flatten(),\n",
    "            'mll': dileptons.mass.flatten(), \n",
    "            'dilepton_pt':dileptons.pt.flatten(),\n",
    "            'MET_pt':met['pt'],\n",
    "    })\n",
    "\n",
    "\n"
   ]
  },
  {
   "cell_type": "code",
   "execution_count": 6,
   "metadata": {},
   "outputs": [],
   "source": [
    "sig_df = convertToDF( sig )\n",
    "bkg_df = convertToDF( bkg )"
   ]
  },
  {
   "cell_type": "code",
   "execution_count": null,
   "metadata": {},
   "outputs": [],
   "source": [
    "#sig = sig_df_in[((sig_df_in['nLepton']==2) & (sig_df_in['nVetoLepton']==2))]\n",
    "#sig_df = pd.DataFrame({'MET_pt': sig['MET_pt'], 'nGoodJet': sig['nGoodJet']})\n",
    "\n",
    "#bkg = bkg_df_in[((bkg_df_in['nLepton']==2) & (bkg_df_in['nVetoLepton']==2))]\n",
    "#bkg_df = pd.DataFrame({'MET_pt': bkg['MET_pt'], 'nGoodJet': bkg['nGoodJet']})\n",
    "\n",
    "#print (len(my_bkg_df['MET_pt']))"
   ]
  },
  {
   "cell_type": "code",
   "execution_count": 7,
   "metadata": {},
   "outputs": [],
   "source": [
    "# usually we have less signal than background\n",
    "nSignal = len(sig_df['MET_pt'])\n",
    "\n",
    "# Balance the signal and background sets\n",
    "tmp_bkg_df = bkg_df.sample( n = nSignal )\n",
    "\n",
    "y_sig = np.ones(len(sig_df))\n",
    "y_bkg = np.zeros(len(tmp_bkg_df))\n",
    "y_tmp = np.concatenate((y_sig,y_bkg))\n",
    "\n",
    "# merge signal and background\n",
    "frames = [sig_df, tmp_bkg_df]\n",
    "X_tmp = pd.concat(frames)"
   ]
  },
  {
   "cell_type": "code",
   "execution_count": 8,
   "metadata": {},
   "outputs": [
    {
     "name": "stderr",
     "output_type": "stream",
     "text": [
      "/cvmfs/cms.cern.ch/slc6_amd64_gcc700/external/py2-scikit-learn/0.19.1/lib/python3.6/site-packages/sklearn/model_selection/_split.py:2026: FutureWarning: From version 0.21, test_size will always complement train_size unless both are specified.\n",
      "  FutureWarning)\n"
     ]
    }
   ],
   "source": [
    "# Splitting in training and test samples\n",
    "X_tmp_train, X_tmp_test, y_train, y_test = train_test_split(X_tmp, y_tmp, train_size= int( 0.5*y_tmp.shape[0] ), random_state=42 )"
   ]
  },
  {
   "cell_type": "code",
   "execution_count": 9,
   "metadata": {},
   "outputs": [],
   "source": [
    "#variables = ['leadingJet_pt', 'leadingLepton_pt', 'subleadingLepton_pt', 'mll', 'dilepton_pt', 'MET_pt']\n",
    "variables = ['lep0_pt', 'lep0_eta', 'lep0_phi', 'lep0_charge', 'lep0_mass', 'lep1_pt', 'lep1_eta', 'lep1_phi', 'lep1_charge', 'lep1_mass']\n",
    "#variables = ['lep0_pt', 'lep0_eta', 'lep0_phi', 'lep0_mass', 'lep1_pt', 'lep1_eta', 'lep1_phi', 'lep1_mass']\n",
    "\n",
    "X_train = X_tmp_train[variables]\n",
    "X_test = X_tmp_test[variables]\n",
    "X_myTest = X_tmp_test[['mll', 'MET_pt']]"
   ]
  },
  {
   "cell_type": "code",
   "execution_count": 10,
   "metadata": {},
   "outputs": [
    {
     "name": "stdout",
     "output_type": "stream",
     "text": [
      "_________________________________________________________________\n",
      "Layer (type)                 Output Shape              Param #   \n",
      "=================================================================\n",
      "dense_1 (Dense)              (None, 8)                 88        \n",
      "_________________________________________________________________\n",
      "dense_2 (Dense)              (None, 64)                576       \n",
      "_________________________________________________________________\n",
      "dense_3 (Dense)              (None, 128)               8320      \n",
      "_________________________________________________________________\n",
      "dense_4 (Dense)              (None, 64)                8256      \n",
      "_________________________________________________________________\n",
      "dense_5 (Dense)              (None, 8)                 520       \n",
      "_________________________________________________________________\n",
      "dense_6 (Dense)              (None, 1)                 9         \n",
      "=================================================================\n",
      "Total params: 17,769\n",
      "Trainable params: 17,769\n",
      "Non-trainable params: 0\n",
      "_________________________________________________________________\n"
     ]
    }
   ],
   "source": [
    "NHLayer = 5\n",
    "epochs = 1000\n",
    "batch_size = 5120\n",
    "validation_split = 0.2\n",
    "\n",
    "# define the model. Which one is the best suited for our problem?\n",
    "model = tf.keras.models.Sequential()\n",
    "\n",
    "# add layers. we can play a bit with the hyper parameters here\n",
    "model.add( tf.keras.layers.Dense(units=8, activation='relu', input_dim=X_train.shape[1], ))\n",
    "#model.add( tf.keras.layers.Dropout( rate = 0.1 ) )\n",
    "\n",
    "model.add( tf.keras.layers.Dense(units=64, activation='relu' ) )\n",
    "#model.add( tf.keras.layers.Dropout( rate = 0.1 ) )\n",
    "\n",
    "model.add( tf.keras.layers.Dense(units=128, activation='relu' ) )\n",
    "#model.add( tf.keras.layers.Dropout( rate = 0.1 ) )\n",
    "\n",
    "model.add( tf.keras.layers.Dense(units=64, activation='relu' ) )\n",
    "#model.add( tf.keras.layers.Dropout( rate = 0.1 ) )\n",
    "\n",
    "model.add( tf.keras.layers.Dense(units=8, activation='relu' ) )\n",
    "#model.add( tf.keras.layers.Dropout( rate = 0.1 ) )\n",
    "\n",
    "model.add( tf.keras.layers.Dense(units=1, activation='sigmoid' ) ) \n",
    "\n",
    "# compile the model\n",
    "model.compile( loss='binary_crossentropy', optimizer='rmsprop', metrics=['acc'])\n",
    "\n",
    "model.summary()\n",
    "\n",
    "## Editor's note: don't go too crazy with nodes and layers if the data set is small or nothing will be learned at all.\n"
   ]
  },
  {
   "cell_type": "code",
   "execution_count": 11,
   "metadata": {},
   "outputs": [],
   "source": [
    "# verbose set to 0 (1 shows all the epochs)\n",
    "\n",
    "history = model.fit(X_train.values, y_train, epochs=epochs, batch_size=batch_size, validation_split=validation_split, verbose=0)\n",
    "model.save( 'training.h5a' )"
   ]
  },
  {
   "cell_type": "code",
   "execution_count": 12,
   "metadata": {},
   "outputs": [
    {
     "data": {
      "text/plain": [
       "<matplotlib.legend.Legend at 0x7f8b680ad390>"
      ]
     },
     "execution_count": 12,
     "metadata": {},
     "output_type": "execute_result"
    },
    {
     "data": {
      "image/png": "[encoded data removed]",
      "text/plain": [
       "<Figure size 432x288 with 1 Axes>"
      ]
     },
     "metadata": {},
     "output_type": "display_data"
    }
   ],
   "source": [
    "history_dict = history.history\n",
    "\n",
    "loss_values  = history_dict['loss']\n",
    "acc_values = history_dict['acc']\n",
    "\n",
    "epochslist = range(1,  len(loss_values)+1)\n",
    "        \n",
    "plt.plot(epochslist, loss_values, 'b', label='Training loss')\n",
    "plt.plot(epochslist, acc_values,'b', color='green', label='Training accuracy')\n",
    "try:\n",
    "    val_loss_values = history_dict['val_loss']\n",
    "    plt.plot(epochslist, val_loss_values, 'b', color='red', label='Validation loss')\n",
    "    val_acc_values = history_dict['val_acc']\n",
    "    plt.plot(epochslist, val_acc_values, 'b', color='orange', label='Validation accuracy')\n",
    "except KeyError:\n",
    "    print (\"Didn't find validation loss\")\n",
    "\n",
    "plt.title('Training and validation loss (Valid. split = ' + str( validation_split ) + ')')\n",
    "plt.xlabel('Epochs  ( batch_size = ' + str( batch_size ) + ')')\n",
    "plt.ylabel('Loss')\n",
    "plt.legend()"
   ]
  },
  {
   "cell_type": "code",
   "execution_count": 13,
   "metadata": {},
   "outputs": [],
   "source": [
    "# use the model to predict whether an event is signal or background\n",
    "y_test_pred = pd.DataFrame( model.predict( X_test.values  ) , index = X_test.index)\n",
    "\n",
    "# as a comparison, use a mll based discriminator:\n",
    "y_test_pred_mll = (1-abs(X_myTest[['mll']]-91.2)/91.2).values.flatten()"
   ]
  },
  {
   "cell_type": "code",
   "execution_count": 14,
   "metadata": {
    "scrolled": true
   },
   "outputs": [
    {
     "data": {
      "image/png": "[encoded data removed]",
      "text/plain": [
       "<Figure size 432x288 with 1 Axes>"
      ]
     },
     "metadata": {},
     "output_type": "display_data"
    }
   ],
   "source": [
    "xbin = 20\n",
    "hist, bins, ax = plt.hist( [ y_test_pred[y_test==0].values, y_test_pred[y_test==1].values ], xbin, log=False, label=['Background ('+ str((y_test==0).sum()) +')' ,'Signal ('+ str((y_test==1).sum()) +')'], histtype='stepfilled', alpha=0.5) "
   ]
  },
  {
   "cell_type": "code",
   "execution_count": 15,
   "metadata": {},
   "outputs": [
    {
     "data": {
      "image/png": "[encoded data removed]",
      "text/plain": [
       "<Figure size 432x288 with 1 Axes>"
      ]
     },
     "metadata": {},
     "output_type": "display_data"
    }
   ],
   "source": [
    "# just looking at M(ll)\n",
    "\n",
    "xbin = range(0,200,10)\n",
    "hist, bins, ax = plt.hist( [ X_myTest[['mll']][y_test==0].values, X_myTest[['mll']][y_test==1].values ], xbin, log=False, histtype='stepfilled', alpha=0.5) "
   ]
  },
  {
   "cell_type": "code",
   "execution_count": 16,
   "metadata": {
    "scrolled": true
   },
   "outputs": [
    {
     "name": "stdout",
     "output_type": "stream",
     "text": [
      "[[0.01122133]\n",
      " [0.00084156]\n",
      " [0.38485926]\n",
      " ...\n",
      " [0.21763235]\n",
      " [0.0083673 ]\n",
      " [0.00079956]]\n",
      "[[0.48389024]\n",
      " [0.98845613]\n",
      " [0.953457  ]\n",
      " ...\n",
      " [0.58535916]\n",
      " [0.38479832]\n",
      " [0.55152327]]\n",
      "15189\n",
      "15010\n"
     ]
    }
   ],
   "source": [
    "print(y_test_pred[y_test==0].values)\n",
    "print(y_test_pred[y_test==1].values)\n",
    "print(y_test_pred[y_test==0].size)\n",
    "print(y_test_pred[y_test==1].size)"
   ]
  },
  {
   "cell_type": "code",
   "execution_count": null,
   "metadata": {},
   "outputs": [],
   "source": [
    "fpr_test, tpr_test, thresholds_test = roc_curve( y_test, y_test_pred )\n",
    "auc_val_test = auc(fpr_test, tpr_test)\n",
    "\n",
    "plt.plot( tpr_test, 1-fpr_test, 'b', label= 'AUC NN=' + str(round(auc_val_test,4) ))\n",
    "\n",
    "fpr_test_alt, tpr_test_alt, thresholds_test_alt = roc_curve( y_test, y_test_pred_mll )\n",
    "auc_val_test_alt = auc(fpr_test_alt, tpr_test_alt)\n",
    "\n",
    "plt.plot( tpr_test_alt, 1-fpr_test_alt, 'b', label= 'AUC M(ll)=' + str(round(auc_val_test_alt,4) ), color='red')\n",
    "\n",
    "plt.title('ROC (sample info: ' + str( len( X_test[y_test == 1] ) + len( X_train[y_train == 1] ) ) + ' signals / '\n",
    "                                              + str( len( X_test[y_test == 0] ) + len( X_train[y_train == 0] ) ) + ' background)'  )\n",
    "plt.xlabel('$\\epsilon_{Sig}$', fontsize = 20) # 'False positive rate'\n",
    "plt.ylabel('$1-\\epsilon_{Back}$', fontsize = 20) #  '1-True positive rate' \n",
    "plt.legend(loc ='lower left')\n"
   ]
  },
  {
   "cell_type": "markdown",
   "metadata": {},
   "source": [
    "Some observations:\n",
    "- with small data set, the performance deterioates pretty quickly when the network becomes too complicated\n",
    "- without using the lepton charge, the NN underperforms wrt M(ll), but gets quite close once the hyper parameters are (roughly) optimized\n",
    "- overtraining seems to be not a big problem, and one can use a large number of epochs\n",
    "- we still use a small data set\n",
    "- maybe a different model is better suited for our problem?\n",
    "\n"
   ]
  },
  {
   "cell_type": "markdown",
   "metadata": {},
   "source": [
    "# Using some physics knowledge (4 vectors)\n",
    "\n",
    "We can try to use a network that knows about 4 vectors.\n",
    "\n",
    "This is WIP!\n"
   ]
  },
  {
   "cell_type": "code",
   "execution_count": null,
   "metadata": {},
   "outputs": [],
   "source": [
    "from lbn import LBN, LBNLayer"
   ]
  },
  {
   "cell_type": "code",
   "execution_count": null,
   "metadata": {},
   "outputs": [],
   "source": []
  },
  {
   "cell_type": "code",
   "execution_count": null,
   "metadata": {},
   "outputs": [],
   "source": [
    "def convertTo4Vec( df ):\n",
    "\n",
    "    eventSelection = ( (df['nLepton']==2) & (df['nVetoLepton']==2) )\n",
    "        \n",
    "    leptons = JaggedCandidateArray.candidatesfromcounts(\n",
    "        df['nLepton'],\n",
    "        pt=df['Lepton_pt'],\n",
    "        eta=df['Lepton_eta'],\n",
    "        phi=df['Lepton_phi'],\n",
    "        mass= df['Lepton_mass'],\n",
    "        charge=df['Lepton_pdgId']/abs(df['Lepton_pdgId'])\n",
    "    )\n",
    "    \n",
    "    leptons = leptons[eventSelection]\n",
    "    \n",
    "    dileptons = leptons.choose(2)\n",
    "    \n",
    "    #dileptons.i0.p4.energy # gives the energy\n",
    "    \n",
    "    leading = np.array(list(zip(dileptons.i0.p4.energy.flatten(), dileptons.i0.p4.x.flatten(),dileptons.i0.p4.y.flatten(),dileptons.i0.p4.z.flatten())))\n",
    "    subleading = np.array(list(zip(dileptons.i1.p4.energy.flatten(), dileptons.i1.p4.x.flatten(),dileptons.i1.p4.y.flatten(),dileptons.i1.p4.z.flatten())))\n",
    "\n",
    "    leps = np.array(list(zip(leading,subleading)))\n",
    "    \n",
    "    return leps # not yet sure how to do this. have to zip?"
   ]
  },
  {
   "cell_type": "code",
   "execution_count": null,
   "metadata": {},
   "outputs": [],
   "source": [
    "bkg = LazyDataFrame(bkg_tree, flatten=True)\n",
    "sig = LazyDataFrame(sig_tree, flatten=True)\n",
    "\n",
    "\n",
    "inputs_sig = convertTo4Vec( sig )\n",
    "inputs_bkg = convertTo4Vec( bkg )\n",
    "\n",
    "nSignal = len(inputs_sig)\n",
    "\n",
    "# training\n",
    "inputs_sig_train = inputs_sig[:int(nSignal/2)]\n",
    "inputs_bkg_train = inputs_bkg[:int(nSignal/2)]\n",
    "\n",
    "inputs = np.concatenate((inputs_sig_train,inputs_bkg_train))\n",
    "\n",
    "# test\n",
    "inputs_sig_test = inputs_sig[int(nSignal/2):nSignal]\n",
    "inputs_bkg_test = inputs_bkg[int(nSignal/2):nSignal]\n",
    "\n",
    "inputs_test = np.concatenate((inputs_sig_test,inputs_bkg_test))\n",
    "\n",
    "\n",
    "# training\n",
    "y_sig = np.ones(len(inputs_sig_train))\n",
    "y_bkg = np.zeros(len(inputs_bkg_train))\n",
    "y_tmp = np.concatenate((y_sig,y_bkg))\n",
    "\n",
    "# test\n",
    "y_sig_test = np.ones(len(inputs_sig_test))\n",
    "y_bkg_test = np.zeros(len(inputs_bkg_test))\n",
    "y_test = np.concatenate((y_sig_test,y_bkg_test))\n",
    "\n",
    "print (np.shape(inputs))\n",
    "print (np.shape(y_tmp))"
   ]
  },
  {
   "cell_type": "code",
   "execution_count": null,
   "metadata": {},
   "outputs": [],
   "source": [
    "# start a sequential model\n",
    "model = tf.keras.models.Sequential()\n",
    "\n",
    "# add the LBN layer\n",
    "lbn_layer = LBNLayer((2, 4), n_particles=2, boost_mode=LBN.PAIRS, features=[\"E\", \"px\", \"py\", \"pz\"])\n",
    "\n",
    "model.add(lbn_layer)\n",
    "\n",
    "model.add( tf.keras.layers.Dense(units=8, activation='relu' ) )\n",
    "model.add( tf.keras.layers.Dense(units=64, activation='relu' ) )\n",
    "model.add( tf.keras.layers.Dense(units=8, activation='relu' ) )\n",
    "\n",
    "model.add( tf.keras.layers.Dense(units=1, activation='sigmoid' ) ) \n",
    "\n",
    "# compile the model\n",
    "model.compile( loss='binary_crossentropy', optimizer='rmsprop', metrics=['acc'])\n",
    "\n",
    "#model.compile(loss=\"categorical_crossentropy\")\n",
    "\n",
    "features = model.predict(inputs)"
   ]
  },
  {
   "cell_type": "code",
   "execution_count": null,
   "metadata": {},
   "outputs": [],
   "source": [
    "\n",
    "history = model.fit(inputs, y_tmp, epochs=1000, batch_size=batch_size, validation_split=validation_split)"
   ]
  },
  {
   "cell_type": "code",
   "execution_count": null,
   "metadata": {},
   "outputs": [],
   "source": [
    "history_dict = history.history\n",
    "\n",
    "loss_values  = history_dict['loss']\n",
    "acc_values = history_dict['acc']\n",
    "\n",
    "epochslist = range(1,  len(loss_values)+1)\n",
    "        \n",
    "plt.plot(epochslist, loss_values, 'b', label='Training loss')\n",
    "plt.plot(epochslist, acc_values,'b', color='green', label='Training accuracy')\n",
    "try:\n",
    "    val_loss_values = history_dict['val_loss']\n",
    "    plt.plot(epochslist, val_loss_values, 'b', color='red', label='Validation loss')\n",
    "    val_acc_values = history_dict['val_acc']\n",
    "    plt.plot(epochslist, val_acc_values, 'b', color='orange', label='Validation accuracy')\n",
    "except KeyError:\n",
    "    print (\"Didn't find validation loss\")\n",
    "\n",
    "plt.title('Training and validation loss (Valid. split = ' + str( validation_split ) + ')')\n",
    "plt.xlabel('Epochs  ( batch_size = ' + str( batch_size ) + ')')\n",
    "plt.ylabel('Loss')\n",
    "plt.legend()"
   ]
  },
  {
   "cell_type": "code",
   "execution_count": null,
   "metadata": {},
   "outputs": [],
   "source": [
    "y_test_pred = pd.DataFrame( model.predict( inputs_test  ) )"
   ]
  },
  {
   "cell_type": "code",
   "execution_count": null,
   "metadata": {},
   "outputs": [],
   "source": [
    "fpr_test, tpr_test, thresholds_test = roc_curve( y_test, y_test_pred )"
   ]
  },
  {
   "cell_type": "code",
   "execution_count": null,
   "metadata": {},
   "outputs": [],
   "source": [
    "auc_val_test = auc(fpr_test, tpr_test)\n",
    "\n",
    "plt.plot( tpr_test, 1-fpr_test, 'b', label= 'Auc=' + str(round(auc_val_test,4) ))\n",
    "\n",
    "#plt.title('ROC (sample info: ' + str( len( X_test[y_test == 1] ) + len( X_train[y_train == 1] ) ) + ' signals / '\n",
    "#                                              + str( len( X_test[y_test == 0] ) + len( X_train[y_train == 0] ) ) + ' background)'  )\n",
    "plt.xlabel('$\\epsilon_{Sig}$', fontsize = 20) # 'False positive rate'\n",
    "plt.ylabel('$1-\\epsilon_{Back}$', fontsize = 20) #  '1-True positive rate' \n",
    "plt.legend(loc ='lower left')"
   ]
  }
 ],
 "metadata": {
  "kernelspec": {
   "display_name": "coffeaEnv",
   "language": "python",
   "name": "coffeaenv"
  },
  "language_info": {
   "codemirror_mode": {
    "name": "ipython",
    "version": 3
   },
   "file_extension": ".py",
   "mimetype": "text/x-python",
   "name": "python",
   "nbconvert_exporter": "python",
   "pygments_lexer": "ipython3",
   "version": "3.6.4"
  }
 },
 "nbformat": 4,
 "nbformat_minor": 2
}

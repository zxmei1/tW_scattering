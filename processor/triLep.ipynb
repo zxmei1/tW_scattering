{
 "cells": [
  {
   "cell_type": "markdown",
   "metadata": {},
   "source": [
    "# Example Notebook for trilepton events"
   ]
  },
  {
   "cell_type": "code",
   "execution_count": 10,
   "metadata": {},
   "outputs": [],
   "source": [
    "import os\n",
    "import time\n",
    "import glob\n",
    "import re\n",
    "import pandas as pd\n",
    "from functools import reduce\n",
    "from klepto.archives import dir_archive\n",
    "\n",
    "import numpy as np\n",
    "from tqdm.auto import tqdm\n",
    "import coffea.processor as processor\n",
    "from coffea.processor.accumulator import AccumulatorABC\n",
    "from coffea.analysis_objects import JaggedCandidateArray\n",
    "from coffea import hist\n",
    "import pandas as pd\n",
    "import uproot_methods\n",
    "import awkward\n",
    "\n",
    "from memory_profiler import profile\n",
    "\n",
    "%matplotlib inline\n",
    "import matplotlib\n",
    "import matplotlib.pyplot as plt\n",
    "from matplotlib.colors import LogNorm\n",
    "\n",
    "from Tools.helpers import addRowToCutFlow, loadConfig, getCutFlowTable\n",
    "\n",
    "# This just tells matplotlib not to open any\n",
    "# interactive windows.\n",
    "matplotlib.use('Agg')"
   ]
  },
  {
   "cell_type": "code",
   "execution_count": 16,
   "metadata": {},
   "outputs": [],
   "source": [
    "class exampleProcessor(processor.ProcessorABC):\n",
    "    \"\"\"Dummy processor used to demonstrate the processor principle\"\"\"\n",
    "    def __init__(self):\n",
    "\n",
    "        # we can use a large number of bins and rebin later\n",
    "        dataset_axis        = hist.Cat(\"dataset\",   \"Primary dataset\")\n",
    "        pt_axis             = hist.Bin(\"pt\",        r\"$p_{T}$ (GeV)\", 1000, 0, 1000)\n",
    "        ht_axis             = hist.Bin(\"ht\",        r\"$H_{T}$ (GeV)\", 500, 0, 5000)\n",
    "        mass_axis           = hist.Bin(\"mass\",      r\"M (GeV)\", 1000, 0, 2000)\n",
    "        eta_axis            = hist.Bin(\"eta\",       r\"$\\eta$\", 60, -5.5, 5.5)\n",
    "        multiplicity_axis   = hist.Bin(\"multiplicity\",         r\"N\", 20, -0.5, 19.5)\n",
    "        norm_axis            = hist.Bin(\"norm\",         r\"N\", 25, 0, 1)\n",
    "\n",
    "        self._accumulator = processor.dict_accumulator({\n",
    "            \"MET_pt\" :          hist.Hist(\"Counts\", dataset_axis, pt_axis),\n",
    "            \"pt_spec_max\" :          hist.Hist(\"Counts\", dataset_axis, pt_axis),\n",
    "            \"eta_spec_max\" :          hist.Hist(\"Counts\", dataset_axis, eta_axis),\n",
    "            \"MT\" :          hist.Hist(\"Counts\", dataset_axis, pt_axis),\n",
    "            \"HT\" :          hist.Hist(\"Counts\", dataset_axis, ht_axis),\n",
    "            \"ST\" :          hist.Hist(\"Counts\", dataset_axis, ht_axis),\n",
    "            \"mbj_max\" :          hist.Hist(\"Counts\", dataset_axis, mass_axis),\n",
    "            \"mjj_max\" :          hist.Hist(\"Counts\", dataset_axis, mass_axis),\n",
    "            \"mlb_max\" :          hist.Hist(\"Counts\", dataset_axis, mass_axis),\n",
    "            \"mlb_min\" :          hist.Hist(\"Counts\", dataset_axis, mass_axis),\n",
    "            \"mlj_max\" :          hist.Hist(\"Counts\", dataset_axis, mass_axis),\n",
    "            \"mlj_min\" :          hist.Hist(\"Counts\", dataset_axis, mass_axis),\n",
    "            \"N_b\" :             hist.Hist(\"Counts\", dataset_axis, multiplicity_axis),\n",
    "            \"N_ele\" :             hist.Hist(\"Counts\", dataset_axis, multiplicity_axis),\n",
    "            \"N_diele\" :             hist.Hist(\"Counts\", dataset_axis, multiplicity_axis),\n",
    "            \"N_mu\" :             hist.Hist(\"Counts\", dataset_axis, multiplicity_axis),\n",
    "            \"N_dimu\" :             hist.Hist(\"Counts\", dataset_axis, multiplicity_axis),\n",
    "            \"N_jet\" :           hist.Hist(\"Counts\", dataset_axis, multiplicity_axis),\n",
    "            \"N_spec\" :           hist.Hist(\"Counts\", dataset_axis, multiplicity_axis),\n",
    "            \"FWMT1\" :           hist.Hist(\"Counts\", dataset_axis, norm_axis),\n",
    "            \"FWMT2\" :           hist.Hist(\"Counts\", dataset_axis, norm_axis),\n",
    "            \"FWMT3\" :           hist.Hist(\"Counts\", dataset_axis, norm_axis),\n",
    "            \"FWMT4\" :           hist.Hist(\"Counts\", dataset_axis, norm_axis),\n",
    "            \"FWMT5\" :           hist.Hist(\"Counts\", dataset_axis, norm_axis),\n",
    "            \"S\" :               hist.Hist(\"Counts\", dataset_axis, norm_axis),\n",
    "            \"S_lep\" :           hist.Hist(\"Counts\", dataset_axis, norm_axis),\n",
    "            'diboson':          processor.defaultdict_accumulator(int),\n",
    "            'ttbar':            processor.defaultdict_accumulator(int),\n",
    "            'TTW':              processor.defaultdict_accumulator(int),\n",
    "            'TTX':              processor.defaultdict_accumulator(int),\n",
    "            'tW_scattering':    processor.defaultdict_accumulator(int),\n",
    "            'DY':               processor.defaultdict_accumulator(int),\n",
    "            'totalEvents':      processor.defaultdict_accumulator(int),\n",
    "        })\n",
    "\n",
    "    @property\n",
    "    def accumulator(self):\n",
    "        return self._accumulator\n",
    "\n",
    "    def process(self, df):\n",
    "        \"\"\"\n",
    "        Processing function. This is where the actual analysis happens.\n",
    "        \"\"\"\n",
    "        output = self.accumulator.identity()\n",
    "        dataset = df[\"dataset\"]\n",
    "        cfg = loadConfig()\n",
    "\n",
    "        # load all the default candidates (jets, leptons, ...)\n",
    "\n",
    "        print (df['genEventSumw_'])\n",
    "        \n",
    "        ## Jets\n",
    "        jet = JaggedCandidateArray.candidatesfromcounts(\n",
    "            df['nJet'],\n",
    "            pt = df['Jet_pt'].content,\n",
    "            eta = df['Jet_eta'].content,\n",
    "            phi = df['Jet_phi'].content,\n",
    "            mass = df['Jet_mass'].content,\n",
    "            goodjet = df['Jet_isGoodJetAll'].content,\n",
    "            bjet = df['Jet_isGoodBJet'].content,\n",
    "            jetId = df['Jet_jetId'].content,\n",
    "            puId = df['Jet_puId'].content,\n",
    "        )\n",
    "        jet       = jet[(jet['goodjet']==1)]\n",
    "        btag      = jet[jet['bjet']==1]\n",
    "        light     = jet[(jet['goodjet']==1) & (jet['bjet']==0)]\n",
    "        spectator = jet[(abs(jet.eta)>2.0) & (abs(jet.eta)<4.7) & (jet.pt>25) & (jet['puId']>=7) & (jet['jetId']>=6)] # 40 GeV seemed good. let's try going lower\n",
    "        leading_spectator = spectator[spectator.pt.argmax()]\n",
    "        \n",
    "        ## Leptons\n",
    "        lepton = JaggedCandidateArray.candidatesfromcounts(\n",
    "            df['nLepton'],\n",
    "            pt = df['Lepton_pt'].content,\n",
    "            eta = df['Lepton_eta'].content,\n",
    "            phi = df['Lepton_phi'].content,\n",
    "            mass = df['Lepton_mass'].content,\n",
    "            pdgId = df['Lepton_pdgId'].content,\n",
    "        )\n",
    "\n",
    "        ## Muons\n",
    "        muon = lepton[abs(lepton['pdgId'])==13]\n",
    "        dimuon = muon.choose(2)\n",
    "        OSmuon = (dimuon.i0['pdgId'] * dimuon.i1['pdgId'] < 0)\n",
    "        dimuon = dimuon[OSmuon]\n",
    "\n",
    "        ## Electrons\n",
    "        electron = lepton[abs(lepton['pdgId'])==11]\n",
    "        dielectron = electron.choose(2)\n",
    "        OSelectron = (dielectron.i0['pdgId'] * dielectron.i1['pdgId'] < 0)\n",
    "        dielectron = dielectron[OSelectron]\n",
    "\n",
    "        ## MET\n",
    "        met_pt  = df[\"MET_pt\"]\n",
    "        met_phi = df[\"MET_phi\"]\n",
    "\n",
    "        ## Event classifieres\n",
    "        \n",
    "        \n",
    "        ## define selections (maybe move to a different file at some point)\n",
    "        trilep      = ((df['nLepton']==3) & (df['nVetoLepton']>=3))\n",
<<<<<<< HEAD
    "        twoJet      = (jet.counts>2) # those are any two jets\n",
    "        twoBTag     = (btag.counts>=2)\n",
    "        twoMuon     = ( muon.counts==2 )\n",
    "        #Zveto_mu    = ( (dimuon.counts<1) )# | (abs(dimuon.mass - 91)>15) )\n",
    "        Zveto_mu    = ( ((dimuon.mass-91.)>15).counts<1 )\n",
    "        Zveto_ele   = ( ((dielectron.mass-91.)>15).counts<1 )\n",
    "        met         = (met_pt > 35)\n",
    "        dilep       = ((df['nLepton']==2) & (df['nVetoLepton']>=2))\n",
    "        fourJet     = (jet.counts>4)\n",
=======
    "        twoJet      = (jet.counts>=2) # those are any two jets\n",
    "        oneBTag     = (btag.counts>0)\n",
    "        twoMuon     = ( muon.counts==2 )\n",
    "        #Zveto_mu    = ( (dimuon.counts<1) )# | (abs(dimuon.mass - 91)>15) )\n",
    "        Zveto_mu_wide    = ( (abs(dimuon.mass-91.)<15).counts<1 )\n",
    "        Zveto_ele_wide   = ( (abs(dielectron.mass-91.)<15).counts<1 )\n",
    "        Zveto_mu_narrow    = ( (abs(dimuon.mass-91.)<10).counts<1 )\n",
    "        Zveto_ele_narrow   = ( (abs(dielectron.mass-91.)<10).counts<1 )\n",
    "        met         = (met_pt > 50)\n",
    "        fwdJet = (spectator.counts>0)\n",
    "        fwdJet50 = ((leading_spectator.pt>50).counts>0)\n",
>>>>>>> b2157cc0f2c748e55c59808685c2a0326a613762
    "\n",
    "\n",
    "        ## work on the cutflow\n",
    "        output['totalEvents']['all'] += len(df['weight'])\n",
    "\n",
<<<<<<< HEAD
    "        addRowToCutFlow( output, df, cfg, 'skim',        None ) # entry point\n",
    "        addRowToCutFlow( output, df, cfg, 'dilep',      dilep )\n",
    "        addRowToCutFlow( output, df, cfg, 'fourJet',      dilep & fourJet )\n",
    "        addRowToCutFlow( output, df, cfg, 'twoBTag',     dilep & fourJet & twoBTag )\n",
    "        addRowToCutFlow( output, df, cfg, 'met35',       dilep & fourJet & twoBTag & met )\n",
    "        addRowToCutFlow( output, df, cfg, 'dimuon',      dilep & fourJet & twoBTag & met & twoMuon )\n",
    "        addRowToCutFlow( output, df, cfg, 'Zveto_mu',    dilep & fourJet & twoBTag & met & Zveto_mu )\n",
    "        addRowToCutFlow( output, df, cfg, 'Zveto',       dilep & fourJet & twoBTag & met & Zveto_mu & Zveto_ele )\n",
=======
    "        addRowToCutFlow( output, df, cfg, 'skim',        None, processes=['TTW', 'TTX', 'diboson', 'ttbar', 'tW_scattering', 'DY'] ) # entry point\n",
    "        addRowToCutFlow( output, df, cfg, 'trilep',      trilep, processes=['TTW', 'TTX', 'diboson', 'ttbar', 'tW_scattering', 'DY'] )\n",
    "        addRowToCutFlow( output, df, cfg, 'twoJet',      trilep & twoJet, processes=['TTW', 'TTX', 'diboson', 'ttbar', 'tW_scattering', 'DY'] )\n",
    "        addRowToCutFlow( output, df, cfg, 'oneBTag',     trilep & twoJet & oneBTag, processes=['TTW', 'TTX', 'diboson', 'ttbar', 'tW_scattering', 'DY'] )\n",
    "        addRowToCutFlow( output, df, cfg, 'met50',       trilep & twoJet & oneBTag & met, processes=['TTW', 'TTX', 'diboson', 'ttbar', 'tW_scattering', 'DY'] )\n",
    "        addRowToCutFlow( output, df, cfg, 'fwd jet',     trilep & twoJet & oneBTag & met & fwdJet, processes=['TTW', 'TTX', 'diboson', 'ttbar', 'tW_scattering', 'DY'] )\n",
    "        addRowToCutFlow( output, df, cfg, 'fwd jet 50',     trilep & twoJet & oneBTag & met & fwdJet & fwdJet50, processes=['TTW', 'TTX', 'diboson', 'ttbar', 'tW_scattering', 'DY'] )\n",
    "        addRowToCutFlow( output, df, cfg, 'Zveto_wide',       trilep & twoJet & oneBTag & met & Zveto_mu_wide & Zveto_ele_wide, processes=['TTW', 'TTX', 'diboson', 'ttbar', 'tW_scattering', 'DY'] )\n",
    "        addRowToCutFlow( output, df, cfg, 'Zveto_narrow',       trilep & twoJet & oneBTag & met & Zveto_mu_narrow & Zveto_ele_narrow, processes=['TTW', 'TTX', 'diboson', 'ttbar', 'tW_scattering', 'DY'] )\n",
    "\n",
>>>>>>> b2157cc0f2c748e55c59808685c2a0326a613762
    "\n",
    "        # preselection of events\n",
    "        event_selection = dilep & fourJet & twoBTag & met\n",
    "        \n",
    "        ## And fill the histograms\n",
    "        # just the number of electrons and muons\n",
    "        output['N_ele'].fill(dataset=dataset, multiplicity=electron[event_selection].counts, weight=df['weight'][event_selection]*cfg['lumi'])\n",
    "        output['N_mu'].fill(dataset=dataset, multiplicity=muon[event_selection].counts, weight=df['weight'][event_selection]*cfg['lumi'])\n",
    "        # N jet and N b without selections on those\n",
    "        output['N_jet'].fill(dataset=dataset, multiplicity=jet[trilep & met].counts, weight=df['weight'][trilep & met]*cfg['lumi'])\n",
    "        output['N_b'].fill(dataset=dataset, multiplicity=btag[trilep & met].counts, weight=df['weight'][trilep & met]*cfg['lumi'])\n",
    "        # forward jet properties\n",
    "        output['N_spec'].fill(dataset=dataset, multiplicity=spectator[event_selection].counts, weight=df['weight'][event_selection]*cfg['lumi'])\n",
    "        output['pt_spec_max'].fill(dataset=dataset, pt=leading_spectator[event_selection & (spectator.counts>0)].pt.flatten(), weight=df['weight'][event_selection & (spectator.counts>0)]*cfg['lumi'])\n",
    "        output['eta_spec_max'].fill(dataset=dataset, eta=leading_spectator[event_selection & (spectator.counts>0)].eta.flatten(), weight=df['weight'][event_selection & (spectator.counts>0)]*cfg['lumi'])\n",
    "        \n",
    "        # something a bit more tricky\n",
    "        output['N_diele'].fill(dataset=dataset, multiplicity=dielectron[event_selection].counts, weight=df['weight'][event_selection]*cfg['lumi'])\n",
    "        output['N_dimu'].fill(dataset=dataset, multiplicity=dimuon[event_selection].counts, weight=df['weight'][event_selection]*cfg['lumi'])\n",
    "\n",
    "        return output\n",
    "\n",
    "    def postprocess(self, accumulator):\n",
    "        return accumulator\n"
   ]
  },
  {
   "cell_type": "code",
   "execution_count": 17,
   "metadata": {},
   "outputs": [
    {
     "data": {
      "application/vnd.jupyter.widget-view+json": {
<<<<<<< HEAD
       "model_id": "97be5ef746e44fe7bb1915a9ba7fcdcd",
       "version_major": 2,
       "version_minor": 0
      },
      "text/html": [
       "<p>Failed to display Jupyter Widget of type <code>HBox</code>.</p>\n",
       "<p>\n",
       "  If you're reading this message in the Jupyter Notebook or JupyterLab Notebook, it may mean\n",
       "  that the widgets JavaScript is still loading. If this message persists, it\n",
       "  likely means that the widgets JavaScript library is either not installed or\n",
       "  not enabled. See the <a href=\"https://ipywidgets.readthedocs.io/en/stable/user_install.html\">Jupyter\n",
       "  Widgets Documentation</a> for setup instructions.\n",
       "</p>\n",
       "<p>\n",
       "  If you're reading this message in another frontend (for example, a static\n",
       "  rendering on GitHub or <a href=\"https://nbviewer.jupyter.org/\">NBViewer</a>),\n",
       "  it may mean that your frontend doesn't currently support widgets.\n",
       "</p>\n"
      ],
      "text/plain": [
       "HBox(children=(FloatProgress(value=0.0, description='Preprocessing', max=12.0, style=ProgressStyle(description_width='initial')), HTML(value='')))"
=======
       "model_id": "5a78798993994186815b33bcea608f32",
       "version_major": 2,
       "version_minor": 0
      },
      "text/plain": [
       "HBox(children=(FloatProgress(value=0.0, description='Processing', max=14.0, style=ProgressStyle(description_wi…"
>>>>>>> b2157cc0f2c748e55c59808685c2a0326a613762
      ]
     },
     "metadata": {},
     "output_type": "display_data"
    },
    {
     "name": "stdout",
     "output_type": "stream",
     "text": [
      "\n"
     ]
    },
    {
<<<<<<< HEAD
     "data": {
      "application/vnd.jupyter.widget-view+json": {
       "model_id": "bf51a2bcc61e43a889613ed4c6699a11",
       "version_major": 2,
       "version_minor": 0
      },
      "text/html": [
       "<p>Failed to display Jupyter Widget of type <code>HBox</code>.</p>\n",
       "<p>\n",
       "  If you're reading this message in the Jupyter Notebook or JupyterLab Notebook, it may mean\n",
       "  that the widgets JavaScript is still loading. If this message persists, it\n",
       "  likely means that the widgets JavaScript library is either not installed or\n",
       "  not enabled. See the <a href=\"https://ipywidgets.readthedocs.io/en/stable/user_install.html\">Jupyter\n",
       "  Widgets Documentation</a> for setup instructions.\n",
       "</p>\n",
       "<p>\n",
       "  If you're reading this message in another frontend (for example, a static\n",
       "  rendering on GitHub or <a href=\"https://nbviewer.jupyter.org/\">NBViewer</a>),\n",
       "  it may mean that your frontend doesn't currently support widgets.\n",
       "</p>\n"
      ],
      "text/plain": [
       "HBox(children=(FloatProgress(value=0.0, description='Processing', max=27.0, style=ProgressStyle(description_width='initial')), HTML(value='')))"
      ]
     },
     "metadata": {},
     "output_type": "display_data"
    },
    {
     "name": "stdout",
     "output_type": "stream",
     "text": [
      "\n"
=======
     "ename": "KeyError",
     "evalue": "'genEventSumw_'",
     "output_type": "error",
     "traceback": [
      "\u001b[0;31m---------------------------------------------------------------------------\u001b[0m",
      "\u001b[0;31m_RemoteTraceback\u001b[0m                          Traceback (most recent call last)",
      "\u001b[0;31m_RemoteTraceback\u001b[0m: \n\"\"\"\nTraceback (most recent call last):\n  File \"/cvmfs/cms.cern.ch/slc6_amd64_gcc700/external/python3/3.6.4-gnimlf/lib/python3.6/concurrent/futures/process.py\", line 175, in _process_worker\n    r = call_item.fn(*call_item.args, **call_item.kwargs)\n  File \"/home/users/dspitzba/TTW/CMSSW_10_2_9/src/tW_scattering/coffeaEnv/lib/python3.6/site-packages/coffea/processor/executor.py\", line 134, in __call__\n    out = self.function(*args, **kwargs)\n  File \"/home/users/dspitzba/TTW/CMSSW_10_2_9/src/tW_scattering/coffeaEnv/lib/python3.6/site-packages/coffea/processor/executor.py\", line 565, in _work_function\n    raise e\n  File \"/home/users/dspitzba/TTW/CMSSW_10_2_9/src/tW_scattering/coffeaEnv/lib/python3.6/site-packages/coffea/processor/executor.py\", line 526, in _work_function\n    out = processor_instance.process(df)\n  File \"<ipython-input-16-9c9fc7eb8e1b>\", line 64, in process\n    print (df[f'genEventSumw_'])\n  File \"/home/users/dspitzba/TTW/CMSSW_10_2_9/src/tW_scattering/coffeaEnv/lib/python3.6/site-packages/coffea/processor/dataframe.py\", line 52, in __getitem__\n    raise KeyError(key)\nKeyError: 'genEventSumw_'\n\"\"\"",
      "\nThe above exception was the direct cause of the following exception:\n",
      "\u001b[0;31mKeyError\u001b[0m                                  Traceback (most recent call last)",
      "\u001b[0;32m<ipython-input-17-d9b987b684dc>\u001b[0m in \u001b[0;36m<module>\u001b[0;34m()\u001b[0m\n\u001b[1;32m     34\u001b[0m                                       \u001b[0mexecutor\u001b[0m\u001b[0;34m=\u001b[0m\u001b[0mprocessor\u001b[0m\u001b[0;34m.\u001b[0m\u001b[0mfutures_executor\u001b[0m\u001b[0;34m,\u001b[0m\u001b[0;34m\u001b[0m\u001b[0m\n\u001b[1;32m     35\u001b[0m                                       \u001b[0mexecutor_args\u001b[0m\u001b[0;34m=\u001b[0m\u001b[0;34m{\u001b[0m\u001b[0;34m'workers'\u001b[0m\u001b[0;34m:\u001b[0m \u001b[0mworkers\u001b[0m\u001b[0;34m,\u001b[0m \u001b[0;34m'function_args'\u001b[0m\u001b[0;34m:\u001b[0m \u001b[0;34m{\u001b[0m\u001b[0;34m'flatten'\u001b[0m\u001b[0;34m:\u001b[0m \u001b[0;32mFalse\u001b[0m\u001b[0;34m}\u001b[0m\u001b[0;34m}\u001b[0m\u001b[0;34m,\u001b[0m\u001b[0;34m\u001b[0m\u001b[0m\n\u001b[0;32m---> 36\u001b[0;31m                                       \u001b[0mchunksize\u001b[0m\u001b[0;34m=\u001b[0m\u001b[0;36m500000\u001b[0m\u001b[0;34m,\u001b[0m\u001b[0;34m\u001b[0m\u001b[0m\n\u001b[0m\u001b[1;32m     37\u001b[0m                                      )\n\u001b[1;32m     38\u001b[0m     \u001b[0mcache\u001b[0m\u001b[0;34m[\u001b[0m\u001b[0;34m'fileset'\u001b[0m\u001b[0;34m]\u001b[0m        \u001b[0;34m=\u001b[0m \u001b[0mfileset\u001b[0m\u001b[0;34m\u001b[0m\u001b[0m\n",
      "\u001b[0;32m/home/users/dspitzba/TTW/CMSSW_10_2_9/src/tW_scattering/coffeaEnv/lib/python3.6/site-packages/coffea/processor/executor.py\u001b[0m in \u001b[0;36mrun_uproot_job\u001b[0;34m(fileset, treename, processor_instance, executor, executor_args, pre_executor, pre_args, chunksize, maxchunks, metadata_cache)\u001b[0m\n\u001b[1;32m    798\u001b[0m     }\n\u001b[1;32m    799\u001b[0m     \u001b[0mexe_args\u001b[0m\u001b[0;34m.\u001b[0m\u001b[0mupdate\u001b[0m\u001b[0;34m(\u001b[0m\u001b[0mexecutor_args\u001b[0m\u001b[0;34m)\u001b[0m\u001b[0;34m\u001b[0m\u001b[0m\n\u001b[0;32m--> 800\u001b[0;31m     \u001b[0mexecutor\u001b[0m\u001b[0;34m(\u001b[0m\u001b[0mchunks\u001b[0m\u001b[0;34m,\u001b[0m \u001b[0mclosure\u001b[0m\u001b[0;34m,\u001b[0m \u001b[0mwrapped_out\u001b[0m\u001b[0;34m,\u001b[0m \u001b[0;34m**\u001b[0m\u001b[0mexe_args\u001b[0m\u001b[0;34m)\u001b[0m\u001b[0;34m\u001b[0m\u001b[0m\n\u001b[0m\u001b[1;32m    801\u001b[0m     \u001b[0mwrapped_out\u001b[0m\u001b[0;34m[\u001b[0m\u001b[0;34m'metrics'\u001b[0m\u001b[0;34m]\u001b[0m\u001b[0;34m[\u001b[0m\u001b[0;34m'chunks'\u001b[0m\u001b[0;34m]\u001b[0m \u001b[0;34m=\u001b[0m \u001b[0mvalue_accumulator\u001b[0m\u001b[0;34m(\u001b[0m\u001b[0mint\u001b[0m\u001b[0;34m,\u001b[0m \u001b[0mlen\u001b[0m\u001b[0;34m(\u001b[0m\u001b[0mchunks\u001b[0m\u001b[0;34m)\u001b[0m\u001b[0;34m)\u001b[0m\u001b[0;34m\u001b[0m\u001b[0m\n\u001b[1;32m    802\u001b[0m     \u001b[0mprocessor_instance\u001b[0m\u001b[0;34m.\u001b[0m\u001b[0mpostprocess\u001b[0m\u001b[0;34m(\u001b[0m\u001b[0mout\u001b[0m\u001b[0;34m)\u001b[0m\u001b[0;34m\u001b[0m\u001b[0m\n",
      "\u001b[0;32m/home/users/dspitzba/TTW/CMSSW_10_2_9/src/tW_scattering/coffeaEnv/lib/python3.6/site-packages/coffea/processor/executor.py\u001b[0m in \u001b[0;36mfutures_executor\u001b[0;34m(items, function, accumulator, **kwargs)\u001b[0m\n\u001b[1;32m    297\u001b[0m         \u001b[0;32mwith\u001b[0m \u001b[0mpool\u001b[0m\u001b[0;34m(\u001b[0m\u001b[0mmax_workers\u001b[0m\u001b[0;34m=\u001b[0m\u001b[0mworkers\u001b[0m\u001b[0;34m)\u001b[0m \u001b[0;32mas\u001b[0m \u001b[0mexecutor\u001b[0m\u001b[0;34m:\u001b[0m\u001b[0;34m\u001b[0m\u001b[0m\n\u001b[1;32m    298\u001b[0m             \u001b[0mfutures\u001b[0m \u001b[0;34m=\u001b[0m \u001b[0mset\u001b[0m\u001b[0;34m(\u001b[0m\u001b[0mexecutor\u001b[0m\u001b[0;34m.\u001b[0m\u001b[0msubmit\u001b[0m\u001b[0;34m(\u001b[0m\u001b[0mfunction\u001b[0m\u001b[0;34m,\u001b[0m \u001b[0mitem\u001b[0m\u001b[0;34m)\u001b[0m \u001b[0;32mfor\u001b[0m \u001b[0mitem\u001b[0m \u001b[0;32min\u001b[0m \u001b[0mitems\u001b[0m\u001b[0;34m)\u001b[0m\u001b[0;34m\u001b[0m\u001b[0m\n\u001b[0;32m--> 299\u001b[0;31m             \u001b[0m_futures_handler\u001b[0m\u001b[0;34m(\u001b[0m\u001b[0mfutures\u001b[0m\u001b[0;34m,\u001b[0m \u001b[0maccumulator\u001b[0m\u001b[0;34m,\u001b[0m \u001b[0mstatus\u001b[0m\u001b[0;34m,\u001b[0m \u001b[0munit\u001b[0m\u001b[0;34m,\u001b[0m \u001b[0mdesc\u001b[0m\u001b[0;34m,\u001b[0m \u001b[0madd_fn\u001b[0m\u001b[0;34m,\u001b[0m \u001b[0mtailtimeout\u001b[0m\u001b[0;34m)\u001b[0m\u001b[0;34m\u001b[0m\u001b[0m\n\u001b[0m\u001b[1;32m    300\u001b[0m     \u001b[0;32mreturn\u001b[0m \u001b[0maccumulator\u001b[0m\u001b[0;34m\u001b[0m\u001b[0m\n\u001b[1;32m    301\u001b[0m \u001b[0;34m\u001b[0m\u001b[0m\n",
      "\u001b[0;32m/home/users/dspitzba/TTW/CMSSW_10_2_9/src/tW_scattering/coffeaEnv/lib/python3.6/site-packages/coffea/processor/executor.py\u001b[0m in \u001b[0;36m_futures_handler\u001b[0;34m(futures_set, output, status, unit, desc, add_fn, tailtimeout)\u001b[0m\n\u001b[1;32m    190\u001b[0m                 \u001b[0mfutures_set\u001b[0m\u001b[0;34m.\u001b[0m\u001b[0mdifference_update\u001b[0m\u001b[0;34m(\u001b[0m\u001b[0mfinished\u001b[0m\u001b[0;34m)\u001b[0m\u001b[0;34m\u001b[0m\u001b[0m\n\u001b[1;32m    191\u001b[0m                 \u001b[0;32mwhile\u001b[0m \u001b[0mfinished\u001b[0m\u001b[0;34m:\u001b[0m\u001b[0;34m\u001b[0m\u001b[0m\n\u001b[0;32m--> 192\u001b[0;31m                     \u001b[0madd_fn\u001b[0m\u001b[0;34m(\u001b[0m\u001b[0moutput\u001b[0m\u001b[0;34m,\u001b[0m \u001b[0mfinished\u001b[0m\u001b[0;34m.\u001b[0m\u001b[0mpop\u001b[0m\u001b[0;34m(\u001b[0m\u001b[0;34m)\u001b[0m\u001b[0;34m.\u001b[0m\u001b[0mresult\u001b[0m\u001b[0;34m(\u001b[0m\u001b[0;34m)\u001b[0m\u001b[0;34m)\u001b[0m\u001b[0;34m\u001b[0m\u001b[0m\n\u001b[0m\u001b[1;32m    193\u001b[0m                     \u001b[0mpbar\u001b[0m\u001b[0;34m.\u001b[0m\u001b[0mupdate\u001b[0m\u001b[0;34m(\u001b[0m\u001b[0;36m1\u001b[0m\u001b[0;34m)\u001b[0m\u001b[0;34m\u001b[0m\u001b[0m\n\u001b[1;32m    194\u001b[0m                     \u001b[0mlast_job\u001b[0m \u001b[0;34m=\u001b[0m \u001b[0mtime\u001b[0m\u001b[0;34m.\u001b[0m\u001b[0mtime\u001b[0m\u001b[0;34m(\u001b[0m\u001b[0;34m)\u001b[0m\u001b[0;34m\u001b[0m\u001b[0m\n",
      "\u001b[0;32m/cvmfs/cms.cern.ch/slc6_amd64_gcc700/external/python3/3.6.4-gnimlf/lib/python3.6/concurrent/futures/_base.py\u001b[0m in \u001b[0;36mresult\u001b[0;34m(self, timeout)\u001b[0m\n\u001b[1;32m    423\u001b[0m                 \u001b[0;32mraise\u001b[0m \u001b[0mCancelledError\u001b[0m\u001b[0;34m(\u001b[0m\u001b[0;34m)\u001b[0m\u001b[0;34m\u001b[0m\u001b[0m\n\u001b[1;32m    424\u001b[0m             \u001b[0;32melif\u001b[0m \u001b[0mself\u001b[0m\u001b[0;34m.\u001b[0m\u001b[0m_state\u001b[0m \u001b[0;34m==\u001b[0m \u001b[0mFINISHED\u001b[0m\u001b[0;34m:\u001b[0m\u001b[0;34m\u001b[0m\u001b[0m\n\u001b[0;32m--> 425\u001b[0;31m                 \u001b[0;32mreturn\u001b[0m \u001b[0mself\u001b[0m\u001b[0;34m.\u001b[0m\u001b[0m__get_result\u001b[0m\u001b[0;34m(\u001b[0m\u001b[0;34m)\u001b[0m\u001b[0;34m\u001b[0m\u001b[0m\n\u001b[0m\u001b[1;32m    426\u001b[0m \u001b[0;34m\u001b[0m\u001b[0m\n\u001b[1;32m    427\u001b[0m             \u001b[0mself\u001b[0m\u001b[0;34m.\u001b[0m\u001b[0m_condition\u001b[0m\u001b[0;34m.\u001b[0m\u001b[0mwait\u001b[0m\u001b[0;34m(\u001b[0m\u001b[0mtimeout\u001b[0m\u001b[0;34m)\u001b[0m\u001b[0;34m\u001b[0m\u001b[0m\n",
      "\u001b[0;32m/cvmfs/cms.cern.ch/slc6_amd64_gcc700/external/python3/3.6.4-gnimlf/lib/python3.6/concurrent/futures/_base.py\u001b[0m in \u001b[0;36m__get_result\u001b[0;34m(self)\u001b[0m\n\u001b[1;32m    382\u001b[0m     \u001b[0;32mdef\u001b[0m \u001b[0m__get_result\u001b[0m\u001b[0;34m(\u001b[0m\u001b[0mself\u001b[0m\u001b[0;34m)\u001b[0m\u001b[0;34m:\u001b[0m\u001b[0;34m\u001b[0m\u001b[0m\n\u001b[1;32m    383\u001b[0m         \u001b[0;32mif\u001b[0m \u001b[0mself\u001b[0m\u001b[0;34m.\u001b[0m\u001b[0m_exception\u001b[0m\u001b[0;34m:\u001b[0m\u001b[0;34m\u001b[0m\u001b[0m\n\u001b[0;32m--> 384\u001b[0;31m             \u001b[0;32mraise\u001b[0m \u001b[0mself\u001b[0m\u001b[0;34m.\u001b[0m\u001b[0m_exception\u001b[0m\u001b[0;34m\u001b[0m\u001b[0m\n\u001b[0m\u001b[1;32m    385\u001b[0m         \u001b[0;32melse\u001b[0m\u001b[0;34m:\u001b[0m\u001b[0;34m\u001b[0m\u001b[0m\n\u001b[1;32m    386\u001b[0m             \u001b[0;32mreturn\u001b[0m \u001b[0mself\u001b[0m\u001b[0;34m.\u001b[0m\u001b[0m_result\u001b[0m\u001b[0;34m\u001b[0m\u001b[0m\n",
      "\u001b[0;31mKeyError\u001b[0m: 'genEventSumw_'"
>>>>>>> b2157cc0f2c748e55c59808685c2a0326a613762
     ]
    }
   ],
   "source": [
    "overwrite = True\n",
    "small = True\n",
    "\n",
    "# load the config and the cache\n",
    "cfg = loadConfig()\n",
    "\n",
    "cacheName = 'diLep_small' if small else 'diLep'\n",
    "\n",
    "from samples import fileset, fileset_small, fileset_3l\n",
    "\n",
    "# histograms\n",
    "histograms = []\n",
    "histograms += ['N_ele', 'N_mu', 'N_diele', 'N_dimu']\n",
    "\n",
    "# initialize cache\n",
    "cache = dir_archive(os.path.join(os.path.expandvars(cfg['caches']['base']), cfg['caches'][cacheName]), serialized=True)\n",
    "if not overwrite:\n",
    "    cache.load()\n",
    "\n",
    "if cfg == cache.get('cfg') and histograms == cache.get('histograms') and cache.get('simple_output'):\n",
    "    output = cache.get('simple_output')\n",
    "\n",
    "else:\n",
    "    # Run the processor\n",
    "    if small:\n",
    "        fileset = fileset_small\n",
    "        workers = 1\n",
    "    else:\n",
    "        fileset = fileset_2l\n",
    "        workers = 8\n",
    "    output = processor.run_uproot_job(fileset,\n",
    "                                      treename='Events',\n",
    "                                      processor_instance=exampleProcessor(),\n",
    "                                      executor=processor.futures_executor,\n",
    "                                      executor_args={'workers': workers, 'function_args': {'flatten': False}},\n",
    "                                      chunksize=500000,\n",
    "                                     )\n",
    "    cache['fileset']        = fileset\n",
    "    cache['cfg']            = cfg\n",
    "    cache['histograms']     = histograms\n",
    "    cache['simple_output']  = output\n",
    "    cache.dump()\n",
    "\n"
   ]
  },
  {
   "cell_type": "code",
   "execution_count": 34,
   "metadata": {},
   "outputs": [
    {
     "name": "stderr",
     "output_type": "stream",
     "text": [
<<<<<<< HEAD
      "/home/users/zmei/CMSSW_10_2_9/src/tW_scattering/coffeaEnv/lib/python3.6/site-packages/coffea/hist/plot.py:44: RuntimeWarning: All sumw are zero!  Cannot compute meaningful error bars\n",
      "  warnings.warn(\"All sumw are zero!  Cannot compute meaningful error bars\", RuntimeWarning)\n"
=======
      "/home/users/dspitzba/TTW/CMSSW_10_2_9/src/tW_scattering/coffeaEnv/lib/python3.6/site-packages/mplhep/_deprecate.py:56: DeprecationWarning: kwarg \"densitymode\" in function \"histplot\" is deprecated and may be removed in future versions: \"unit\"mode is not useful\n",
      "  return func(*args, **kwargs)\n"
>>>>>>> b2157cc0f2c748e55c59808685c2a0326a613762
     ]
    },
    {
     "data": {
<<<<<<< HEAD
      "image/png": "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\n",
=======
      "image/png": "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\n",
>>>>>>> b2157cc0f2c748e55c59808685c2a0326a613762
      "text/plain": [
       "<Figure size 432x288 with 1 Axes>"
      ]
     },
     "metadata": {},
     "output_type": "display_data"
    }
   ],
   "source": [
    "histogram = output['eta_spec_max']\n",
    "ax = hist.plot1d(histogram,overlay=\"dataset\", stack=True)"
   ]
  },
  {
   "cell_type": "code",
   "execution_count": 38,
   "metadata": {
    "scrolled": true
   },
   "outputs": [
    {
     "name": "stderr",
     "output_type": "stream",
     "text": [
<<<<<<< HEAD
      "/home/users/zmei/CMSSW_10_2_9/src/tW_scattering/coffeaEnv/lib/python3.6/site-packages/coffea/hist/plot.py:44: RuntimeWarning: All sumw are zero!  Cannot compute meaningful error bars\n",
      "  warnings.warn(\"All sumw are zero!  Cannot compute meaningful error bars\", RuntimeWarning)\n"
=======
      "/home/users/dspitzba/TTW/CMSSW_10_2_9/src/tW_scattering/coffeaEnv/lib/python3.6/site-packages/mplhep/_deprecate.py:56: DeprecationWarning: kwarg \"densitymode\" in function \"histplot\" is deprecated and may be removed in future versions: \"unit\"mode is not useful\n",
      "  return func(*args, **kwargs)\n"
>>>>>>> b2157cc0f2c748e55c59808685c2a0326a613762
     ]
    },
    {
     "data": {
<<<<<<< HEAD
      "image/png": "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\n",
=======
      "image/png": "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\n",
>>>>>>> b2157cc0f2c748e55c59808685c2a0326a613762
      "text/plain": [
       "<Figure size 432x288 with 1 Axes>"
      ]
     },
     "metadata": {},
     "output_type": "display_data"
    }
   ],
   "source": [
    "histogram = output['N_jet']\n",
    "ax = hist.plot1d(histogram,overlay=\"dataset\", stack=True)"
   ]
  },
  {
   "cell_type": "code",
   "execution_count": 4,
   "metadata": {},
   "outputs": [
    {
     "name": "stdout",
     "output_type": "stream",
     "text": [
<<<<<<< HEAD
      "          tW_scattering        ttbar     diboson\n",
      "skim         123.662890  9741.338940  726.373038\n",
      "skim         123.662890  9741.338940  726.373038\n",
      "dilep          5.790666    13.427867  130.663802\n",
      "fourJet        3.860444     0.686656    4.238838\n",
      "twoBTag        1.029452     0.241706    0.027182\n",
      "met35          0.772089     0.080974    0.027182\n",
      "dimuon         0.257363     0.000000    0.000000\n",
      "Zveto_mu       0.643407     0.080974    0.027182\n",
      "Zveto          0.386044     0.080974    0.027182\n"
=======
      "              tW_scattering          TTW          TTX     diboson  \\\n",
      "skim              46.840054  4453.033199  1703.967749  595.825589   \n",
      "trilep             0.514726    74.747868   128.956370    0.081547   \n",
      "twoJet             0.514726    64.056782   117.137959    0.054365   \n",
      "oneBTag            0.514726    53.742240    83.914733    0.000000   \n",
      "met50              0.257363    43.051780    56.656219    0.000000   \n",
      "fwd jet 50         0.257363    12.189746    20.524785    0.000000   \n",
      "Zveto_wide         0.000000    10.970081     1.417561    0.000000   \n",
      "Zveto_narrow       0.000000    10.970081     1.417561    0.000000   \n",
      "\n",
      "                    ttbar            DY  \n",
      "skim          5415.434989  1.045822e+06  \n",
      "trilep           0.038867  3.289347e+02  \n",
      "twoJet           0.159923  1.151931e+02  \n",
      "oneBTag          0.160328  1.647970e+01  \n",
      "met50            0.080164  0.000000e+00  \n",
      "fwd jet 50       0.040082  0.000000e+00  \n",
      "Zveto_wide       0.000000  0.000000e+00  \n",
      "Zveto_narrow     0.000000  0.000000e+00  \n"
>>>>>>> b2157cc0f2c748e55c59808685c2a0326a613762
     ]
    }
   ],
   "source": [
<<<<<<< HEAD
    "df = getCutFlowTable(output, processes=['tW_scattering', 'ttbar', 'diboson'], lines=['skim','skim','dilep','fourJet','twoBTag','met35','dimuon','Zveto_mu','Zveto',])"
=======
    "df = getCutFlowTable(output, processes=['tW_scattering', 'TTW', 'TTX', 'diboson','ttbar', 'DY'], lines=['skim', 'trilep','twoJet','oneBTag','met50', 'fwd jet 50','Zveto_wide', 'Zveto_narrow'])"
   ]
  },
  {
   "cell_type": "code",
   "execution_count": 11,
   "metadata": {},
   "outputs": [
    {
     "data": {
      "text/plain": [
       "0.15586381746232214"
      ]
     },
     "execution_count": 11,
     "metadata": {},
     "output_type": "execute_result"
    }
   ],
   "source": [
    "23.139932/1.484625e+02"
   ]
  },
  {
   "cell_type": "code",
   "execution_count": 8,
   "metadata": {},
   "outputs": [
    {
     "data": {
      "text/plain": [
       "{'DY': defaultdict_accumulator(int,\n",
       "                         {'Zveto_narrow': 0,\n",
       "                          'Zveto_wide': 0,\n",
       "                          'fwd jet': 0,\n",
       "                          'fwd jet 50': 0,\n",
       "                          'met50': 0,\n",
       "                          'oneBTag': 16.479695804417133,\n",
       "                          'skim': 1045822.2476198301,\n",
       "                          'trilep': 328.93472895026207,\n",
       "                          'twoJet': 115.19307384639978}),\n",
       " 'FWMT1': <Hist (dataset,norm) instance at 0x7fa85c893d68>,\n",
       " 'FWMT2': <Hist (dataset,norm) instance at 0x7fa85c893c88>,\n",
       " 'FWMT3': <Hist (dataset,norm) instance at 0x7fa85c893e80>,\n",
       " 'FWMT4': <Hist (dataset,norm) instance at 0x7fa85c893da0>,\n",
       " 'FWMT5': <Hist (dataset,norm) instance at 0x7fa85c893cc0>,\n",
       " 'HT': <Hist (dataset,ht) instance at 0x7fa85c8939b0>,\n",
       " 'MET_pt': <Hist (dataset,pt) instance at 0x7fa85c893940>,\n",
       " 'MT': <Hist (dataset,pt) instance at 0x7fa85c893be0>,\n",
       " 'N_b': <Hist (dataset,multiplicity) instance at 0x7fa85c893ac8>,\n",
       " 'N_diele': <Hist (dataset,multiplicity) instance at 0x7fa85c893a58>,\n",
       " 'N_dimu': <Hist (dataset,multiplicity) instance at 0x7fa85c893b38>,\n",
       " 'N_ele': <Hist (dataset,multiplicity) instance at 0x7fa85c8939e8>,\n",
       " 'N_jet': <Hist (dataset,multiplicity) instance at 0x7fa85c893b70>,\n",
       " 'N_mu': <Hist (dataset,multiplicity) instance at 0x7fa85c893cf8>,\n",
       " 'N_spec': <Hist (dataset,multiplicity) instance at 0x7fa85c893dd8>,\n",
       " 'S': <Hist (dataset,norm) instance at 0x7fa85c893f60>,\n",
       " 'ST': <Hist (dataset,ht) instance at 0x7fa85c8937b8>,\n",
       " 'S_lep': <Hist (dataset,norm) instance at 0x7fa85c893eb8>,\n",
       " 'TTW': defaultdict_accumulator(int,\n",
       "                         {'Zveto_narrow': 10.970080998318736,\n",
       "                          'Zveto_wide': 10.970080998318736,\n",
       "                          'fwd jet': 12.189745754723845,\n",
       "                          'fwd jet 50': 12.189745754723845,\n",
       "                          'met50': 43.051779876717774,\n",
       "                          'oneBTag': 53.742239583822084,\n",
       "                          'skim': 4453.033199200589,\n",
       "                          'trilep': 74.74786798642162,\n",
       "                          'twoJet': 64.05678227705357}),\n",
       " 'TTX': defaultdict_accumulator(int,\n",
       "                         {'Zveto_narrow': 1.4175605259551958,\n",
       "                          'Zveto_wide': 1.4175605259551958,\n",
       "                          'fwd jet': 20.524785484586758,\n",
       "                          'fwd jet 50': 20.524785484586758,\n",
       "                          'met50': 56.656218981515124,\n",
       "                          'oneBTag': 83.91473337664429,\n",
       "                          'skim': 1703.9677485664572,\n",
       "                          'trilep': 128.95636955977824,\n",
       "                          'twoJet': 117.13795904760555}),\n",
       " 'diboson': defaultdict_accumulator(int,\n",
       "                         {'Zveto_narrow': 0,\n",
       "                          'Zveto_wide': 0,\n",
       "                          'fwd jet': 0,\n",
       "                          'fwd jet 50': 0,\n",
       "                          'met50': 0,\n",
       "                          'oneBTag': 0,\n",
       "                          'skim': 595.8255886457482,\n",
       "                          'trilep': 0.08154747662774753,\n",
       "                          'twoJet': 0.05436498441849835}),\n",
       " 'eta_spec_max': <Hist (dataset,eta) instance at 0x7fa85c893400>,\n",
       " 'mbj_max': <Hist (dataset,mass) instance at 0x7fa85c893a90>,\n",
       " 'mjj_max': <Hist (dataset,mass) instance at 0x7fa85c8933c8>,\n",
       " 'mlb_max': <Hist (dataset,mass) instance at 0x7fa85c893390>,\n",
       " 'mlb_min': <Hist (dataset,mass) instance at 0x7fa85c893470>,\n",
       " 'mlj_max': <Hist (dataset,mass) instance at 0x7fa85c893a20>,\n",
       " 'mlj_min': <Hist (dataset,mass) instance at 0x7fa85c893c50>,\n",
       " 'pt_spec_max': <Hist (dataset,pt) instance at 0x7fa85c893978>,\n",
       " 'tW_scattering': defaultdict_accumulator(int,\n",
       "                         {'Zveto_narrow': 0,\n",
       "                          'Zveto_wide': 0,\n",
       "                          'fwd jet': 0.25736293487716466,\n",
       "                          'fwd jet 50': 0.25736293487716466,\n",
       "                          'met50': 0.25736293487716466,\n",
       "                          'oneBTag': 0.5147258697543293,\n",
       "                          'skim': 46.84005414764397,\n",
       "                          'trilep': 0.5147258697543293,\n",
       "                          'twoJet': 0.5147258697543293}),\n",
       " 'totalEvents': defaultdict_accumulator(int, {'all': 1355593}),\n",
       " 'ttbar': defaultdict_accumulator(int,\n",
       "                         {'Zveto_narrow': 0,\n",
       "                          'Zveto_wide': 0,\n",
       "                          'fwd jet': 0.040081939863739535,\n",
       "                          'fwd jet 50': 0.040081939863739535,\n",
       "                          'met50': 0.08016387972747907,\n",
       "                          'oneBTag': 0.16032775945495814,\n",
       "                          'skim': 5415.434989370886,\n",
       "                          'trilep': 0.03886733949184418,\n",
       "                          'twoJet': 0.15992289266432635})}"
      ]
     },
     "execution_count": 8,
     "metadata": {},
     "output_type": "execute_result"
    }
   ],
   "source": [
    "output"
>>>>>>> b2157cc0f2c748e55c59808685c2a0326a613762
   ]
  },
  {
   "cell_type": "code",
   "execution_count": null,
   "metadata": {},
   "outputs": [],
   "source": []
  }
 ],
 "metadata": {
  "kernelspec": {
   "display_name": "coffeaEnv",
   "language": "python",
   "name": "coffeaenv"
  },
  "language_info": {
   "codemirror_mode": {
    "name": "ipython",
    "version": 3
   },
   "file_extension": ".py",
   "mimetype": "text/x-python",
   "name": "python",
   "nbconvert_exporter": "python",
   "pygments_lexer": "ipython3",
   "version": "3.6.4"
  }
 },
 "nbformat": 4,
 "nbformat_minor": 2
}

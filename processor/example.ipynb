{
 "cells": [
  {
   "cell_type": "markdown",
   "metadata": {},
   "source": [
    "# Example Notebook for dilepton events with opposite charge, same flavor\n",
    "\n",
    "As an example, use the ttW, ttZ and diboson samples and select events with two leptons, same flavor, opposite charge.\n",
    "By selecting events with many jets and at least on b-tagged jet, one should mainly select ttZ events.\n",
    "In this example, the large DY and tt+jets samples are neglected in order to reduce the processing time.\n",
    "\n",
    "Make yourself familiar with the concept of the processor:\n",
    "- What are the different kind of axes we define?\n",
    "- Which kinds of objects do we define (jets, leptons...)\n",
    "- How do selections of objects and events work?\n",
    "- How does one take weights into account?\n",
    "- How to add lines to a cutflow table\n",
    "- How to plot momenta of jets, leptons etc\n"
   ]
  },
  {
   "cell_type": "code",
   "execution_count": 1,
   "metadata": {},
   "outputs": [],
   "source": [
    "import os\n",
    "import time\n",
    "import glob\n",
    "import re\n",
    "import pandas as pd\n",
    "from functools import reduce\n",
    "from klepto.archives import dir_archive\n",
    "\n",
    "import numpy as np\n",
    "from tqdm.auto import tqdm\n",
    "import coffea.processor as processor\n",
    "from coffea.processor.accumulator import AccumulatorABC\n",
    "from coffea.analysis_objects import JaggedCandidateArray\n",
    "from coffea import hist\n",
    "import pandas as pd\n",
    "import uproot_methods\n",
    "import awkward\n",
    "\n",
    "from memory_profiler import profile\n",
    "\n",
    "%matplotlib inline\n",
    "import matplotlib\n",
    "import matplotlib.pyplot as plt\n",
    "from matplotlib.colors import LogNorm\n",
    "\n",
    "from Tools.helpers import addRowToCutFlow, loadConfig, getCutFlowTable\n",
    "\n",
    "# This just tells matplotlib not to open any\n",
    "# interactive windows.\n",
    "matplotlib.use('Agg')"
   ]
  },
  {
   "cell_type": "code",
   "execution_count": 2,
   "metadata": {},
   "outputs": [],
   "source": [
    "class exampleProcessor(processor.ProcessorABC):\n",
    "    \"\"\"Dummy processor used to demonstrate the processor principle\"\"\"\n",
    "    def __init__(self):\n",
    "\n",
    "        # some definitions of different axis types\n",
    "        # we can use a large number of bins and rebin later\n",
    "        dataset_axis        = hist.Cat(\"dataset\",   \"Primary dataset\")\n",
    "        pt_axis             = hist.Bin(\"pt\",        r\"$p_{T}$ (GeV)\", 1000, 0, 1000)\n",
    "        ht_axis             = hist.Bin(\"ht\",        r\"$H_{T}$ (GeV)\", 500, 0, 5000)\n",
    "        mass_axis           = hist.Bin(\"mass\",      r\"M (GeV)\", 1000, 0, 2000)\n",
    "        eta_axis            = hist.Bin(\"eta\",       r\"$\\eta$\", 60, -5.5, 5.5)\n",
    "        multiplicity_axis   = hist.Bin(\"multiplicity\",         r\"N\", 20, -0.5, 19.5)\n",
    "        norm_axis            = hist.Bin(\"norm\",         r\"N\", 25, 0, 1)\n",
    "\n",
    "        # define the histograms and processes here\n",
    "        self._accumulator = processor.dict_accumulator({\n",
    "            \"MET_pt\" :          hist.Hist(\"Counts\", dataset_axis, pt_axis),\n",
    "            \"N_b\" :             hist.Hist(\"Counts\", dataset_axis, multiplicity_axis),\n",
    "            \"N_jet\" :           hist.Hist(\"Counts\", dataset_axis, multiplicity_axis),\n",
    "            \"dilepton_mass\" :   hist.Hist(\"Counts\", dataset_axis, mass_axis),\n",
    "            \"dilepton_pt\" :     hist.Hist(\"Counts\", dataset_axis, pt_axis),\n",
    "\n",
    "            'diboson':          processor.defaultdict_accumulator(int),\n",
    "            'TTW':              processor.defaultdict_accumulator(int),\n",
    "            'TTZ':              processor.defaultdict_accumulator(int),\n",
    "            'totalEvents':      processor.defaultdict_accumulator(int),\n",
    "        })\n",
    "\n",
    "    @property\n",
    "    def accumulator(self):\n",
    "        return self._accumulator\n",
    "\n",
    "    def process(self, df):\n",
    "        \"\"\"\n",
    "        Processing function. This is where the actual analysis happens.\n",
    "        \"\"\"\n",
    "        output = self.accumulator.identity()\n",
    "        dataset = df[\"dataset\"]\n",
    "        cfg = loadConfig()\n",
    "\n",
    "        # load all the default candidates (jets, leptons, ...)\n",
    "        \n",
    "        ## Jets\n",
    "        jet = JaggedCandidateArray.candidatesfromcounts(\n",
    "            df['nJet'],\n",
    "            pt = df['Jet_pt'].content,\n",
    "            eta = df['Jet_eta'].content,\n",
    "            phi = df['Jet_phi'].content,\n",
    "            mass = df['Jet_mass'].content,\n",
    "            goodjet = df['Jet_isGoodJetAll'].content,\n",
    "            bjet = df['Jet_isGoodBJet'].content,\n",
    "            jetId = df['Jet_jetId'].content,\n",
    "            puId = df['Jet_puId'].content,\n",
    "        )\n",
    "        # all jets with certain quality criterea (goodjet)\n",
    "        jet       = jet[(jet['goodjet']==1)]\n",
    "        # only b-tagged jets\n",
    "        btag      = jet[jet['bjet']==1]\n",
    "        # good jets that are not b-tagged are assumed to be light flavor jets (u/d/s/c quarks of gluons)\n",
    "        light     = jet[(jet['goodjet']==1) & (jet['bjet']==0)]\n",
    "        # for top-W scattering, or top-Z scattering, forward jets are assumed to come from a spectator quark. we don't use them below, but maybe later\n",
    "        spectator = jet[(abs(jet.eta)>2.0) & (abs(jet.eta)<4.7) & (jet.pt>25) & (jet['puId']>=7) & (jet['jetId']>=6)] # 40 GeV seemed good. let's try going lower\n",
    "        # select the spectator jet with the highest transverse momentum\n",
    "        leading_spectator = spectator[spectator.pt.argmax()]\n",
    "        \n",
    "        ## Leptons\n",
    "        lepton = JaggedCandidateArray.candidatesfromcounts(\n",
    "            df['nLepton'],\n",
    "            pt = df['Lepton_pt'].content,\n",
    "            eta = df['Lepton_eta'].content,\n",
    "            phi = df['Lepton_phi'].content,\n",
    "            mass = df['Lepton_mass'].content,\n",
    "            pdgId = df['Lepton_pdgId'].content,\n",
    "        )\n",
    "        dilepton = lepton.choose(2)\n",
    "\n",
    "        ## Muons\n",
    "        muon = lepton[abs(lepton['pdgId'])==13]\n",
    "        dimuon = muon.choose(2)\n",
    "        OSmuon = (dimuon.i0['pdgId'] * dimuon.i1['pdgId'] < 0) # select two muons with opposite charge\n",
    "        dimuon = dimuon[OSmuon]\n",
    "\n",
    "        ## Electrons\n",
    "        electron = lepton[abs(lepton['pdgId'])==11]\n",
    "        dielectron = electron.choose(2)\n",
    "        OSelectron = (dielectron.i0['pdgId'] * dielectron.i1['pdgId'] < 0) # select two electrons with opposite charge\n",
    "        dielectron = dielectron[OSelectron]\n",
    "\n",
    "        ## MET\n",
    "        met_pt  = df[\"MET_pt\"]\n",
    "        met_phi = df[\"MET_phi\"]\n",
    "\n",
    "        ## Event classifieres\n",
    "        \n",
    "        \n",
    "        ## define selections (maybe move to a different file at some point)\n",
    "        dilep       = ((df['nLepton']==2) & (df['nVetoLepton']>=2))\n",
    "        sixJet      = (jet.counts>=6) # those are any two jets\n",
    "        oneBTag     = (btag.counts>0)\n",
    "        twoMuon     = ( muon.counts==2 )\n",
    "        twoElectron = ( electron.counts==2 )\n",
    "        onZ_mu      = ( (abs(dimuon.mass-91.)<15).counts>0 )\n",
    "        onZ_ele     = ( (abs(dielectron.mass-91.)<15).counts>0 )\n",
    "        met         = (met_pt > 50)\n",
    "        fwdJet = (spectator.counts>0)\n",
    "        fwdJet50 = ((leading_spectator.pt>50).counts>0)\n",
    "\n",
    "\n",
    "        ## work on the cutflow\n",
    "        output['totalEvents']['all'] += len(df['weight'])\n",
    "\n",
    "        addRowToCutFlow( output, df, cfg, 'skim',        None, processes=['TTW', 'TTZ', 'diboson'] ) # entry point\n",
    "        addRowToCutFlow( output, df, cfg, 'dilep',       dilep, processes=['TTW', 'TTZ', 'diboson'] )\n",
    "        addRowToCutFlow( output, df, cfg, 'sixJet',      dilep & sixJet, processes=['TTW', 'TTZ', 'diboson'] )\n",
    "        addRowToCutFlow( output, df, cfg, 'oneBTag',     dilep & sixJet & oneBTag, processes=['TTW', 'TTZ', 'diboson'] )\n",
    "        addRowToCutFlow( output, df, cfg, 'SF',          dilep & sixJet & oneBTag & (twoMuon | twoElectron), processes=['TTW', 'TTZ', 'diboson'] )\n",
    "        addRowToCutFlow( output, df, cfg, 'onZ',         dilep & sixJet & oneBTag & (twoMuon | twoElectron) & (onZ_mu | onZ_ele), processes=['TTW', 'TTZ', 'diboson'] )\n",
    "\n",
    "\n",
    "        # preselection of events\n",
    "        event_selection = dilep & sixJet & oneBTag & (twoMuon | twoElectron)\n",
    "        \n",
    "        ## And fill the histograms\n",
    "        # N jet and N b without selections on those\n",
    "        output['N_jet'].fill(dataset=dataset, multiplicity=jet[dilep].counts, weight=df['weight'][dilep]*cfg['lumi'])\n",
    "        output['N_b'].fill(dataset=dataset, multiplicity=btag[dilep].counts, weight=df['weight'][dilep]*cfg['lumi'])\n",
    "\n",
    "        output['dilepton_mass'].fill(dataset=dataset, mass=dilepton[event_selection].mass.flatten(), weight=df['weight'][event_selection]*cfg['lumi'])\n",
    "        output['dilepton_pt'].fill(dataset=dataset, pt=dilepton[event_selection].pt.flatten(), weight=df['weight'][event_selection]*cfg['lumi'])\n",
    "\n",
    "        return output\n",
    "\n",
    "    def postprocess(self, accumulator):\n",
    "        return accumulator\n"
   ]
  },
  {
   "cell_type": "code",
   "execution_count": 3,
   "metadata": {},
   "outputs": [],
   "source": [
    "overwrite = False\n",
    "small = True\n",
    "\n",
    "# load the config and the cache\n",
    "cfg = loadConfig()\n",
    "\n",
    "cacheName = 'example'\n",
    "\n",
    "from samples import fileset, fileset_2lOS\n",
    "\n",
    "# histograms\n",
    "histograms = []\n",
    "histograms += ['N_b', 'N_jet', 'dilepton_mass', 'dilepton_pt']\n",
    "\n",
    "# initialize cache\n",
    "cache = dir_archive(os.path.join(os.path.expandvars(cfg['caches']['base']), cfg['caches'][cacheName]), serialized=True)\n",
    "if not overwrite:\n",
    "    cache.load()\n",
    "\n",
    "if cfg == cache.get('cfg') and histograms == cache.get('histograms') and cache.get('simple_output'):\n",
    "    output = cache.get('simple_output')\n",
    "\n",
    "else:\n",
    "    # Run the processor\n",
    "    fileset = {'TTW':fileset_2lOS['TTW'], 'TTZ':fileset_2lOS['TTZ'], 'diboson':fileset_2lOS['diboson']}\n",
    "    workers = 8\n",
    "    output = processor.run_uproot_job(fileset,\n",
    "                                      treename='Events',\n",
    "                                      processor_instance=exampleProcessor(),\n",
    "                                      executor=processor.futures_executor,\n",
    "                                      executor_args={'workers': workers, 'function_args': {'flatten': False}},\n",
    "                                      chunksize=500000,\n",
    "                                     )\n",
    "    cache['fileset']        = fileset\n",
    "    cache['cfg']            = cfg\n",
    "    cache['histograms']     = histograms\n",
    "    cache['simple_output']  = output\n",
    "    cache.dump()\n",
    "\n"
   ]
  },
  {
   "cell_type": "code",
   "execution_count": 4,
   "metadata": {},
   "outputs": [
    {
     "name": "stderr",
     "output_type": "stream",
     "text": [
      "/home/users/dspitzba/TTW/CMSSW_10_2_9/src/tW_scattering/coffeaEnv/lib/python3.6/site-packages/mplhep/_deprecate.py:56: DeprecationWarning: kwarg \"densitymode\" in function \"histplot\" is deprecated and may be removed in future versions: \"unit\"mode is not useful\n",
      "  return func(*args, **kwargs)\n"
     ]
    },
    {
     "data": {
      "image/png": "[encoded data removed]",
      "text/plain": [
       "<Figure size 432x288 with 1 Axes>"
      ]
     },
     "metadata": {},
     "output_type": "display_data"
    }
   ],
   "source": [
    "histogram = output['dilepton_mass']\n",
    "histogram = histogram.rebin('mass', hist.Bin('mass', r'$M(ll) \\ (GeV)$', 20, 0, 200))\n",
    "ax = hist.plot1d(histogram,overlay=\"dataset\", stack=True)"
   ]
  },
  {
   "cell_type": "code",
   "execution_count": 5,
   "metadata": {},
   "outputs": [
    {
     "name": "stderr",
     "output_type": "stream",
     "text": [
      "/home/users/dspitzba/TTW/CMSSW_10_2_9/src/tW_scattering/coffeaEnv/lib/python3.6/site-packages/mplhep/_deprecate.py:56: DeprecationWarning: kwarg \"densitymode\" in function \"histplot\" is deprecated and may be removed in future versions: \"unit\"mode is not useful\n",
      "  return func(*args, **kwargs)\n"
     ]
    },
    {
     "data": {
      "image/png": "[encoded data removed]",
      "text/plain": [
       "<Figure size 432x288 with 1 Axes>"
      ]
     },
     "metadata": {},
     "output_type": "display_data"
    }
   ],
   "source": [
    "histogram = output['dilepton_pt']\n",
    "histogram = histogram.rebin('pt', hist.Bin('pt', r'$p_{T} \\ (GeV)$', 20, 0, 400))\n",
    "ax = hist.plot1d(histogram,overlay=\"dataset\", stack=True)"
   ]
  },
  {
   "cell_type": "code",
   "execution_count": 6,
   "metadata": {
    "scrolled": false
   },
   "outputs": [
    {
     "name": "stderr",
     "output_type": "stream",
     "text": [
      "/home/users/dspitzba/TTW/CMSSW_10_2_9/src/tW_scattering/coffeaEnv/lib/python3.6/site-packages/mplhep/_deprecate.py:56: DeprecationWarning: kwarg \"densitymode\" in function \"histplot\" is deprecated and may be removed in future versions: \"unit\"mode is not useful\n",
      "  return func(*args, **kwargs)\n"
     ]
    },
    {
     "data": {
      "image/png": "[encoded data removed]",
      "text/plain": [
       "<Figure size 432x288 with 1 Axes>"
      ]
     },
     "metadata": {},
     "output_type": "display_data"
    }
   ],
   "source": [
    "histogram = output['N_jet']\n",
    "ax = hist.plot1d(histogram,overlay=\"dataset\", stack=True)"
   ]
  },
  {
   "cell_type": "code",
   "execution_count": 7,
   "metadata": {},
   "outputs": [
    {
     "name": "stderr",
     "output_type": "stream",
     "text": [
      "/home/users/dspitzba/TTW/CMSSW_10_2_9/src/tW_scattering/coffeaEnv/lib/python3.6/site-packages/mplhep/_deprecate.py:56: DeprecationWarning: kwarg \"densitymode\" in function \"histplot\" is deprecated and may be removed in future versions: \"unit\"mode is not useful\n",
      "  return func(*args, **kwargs)\n"
     ]
    },
    {
     "data": {
      "image/png": "[encoded data removed]",
      "text/plain": [
       "<Figure size 432x288 with 1 Axes>"
      ]
     },
     "metadata": {},
     "output_type": "display_data"
    }
   ],
   "source": [
    "histogram = output['N_b']\n",
    "ax = hist.plot1d(histogram,overlay=\"dataset\", stack=True)"
   ]
  },
  {
   "cell_type": "code",
   "execution_count": 9,
   "metadata": {},
   "outputs": [
    {
     "name": "stdout",
     "output_type": "stream",
     "text": [
      "                      TTW               TTZ               diboson\n",
      "skim     27870.0 +/- 60.0  14820.0 +/- 10.0  1083000.0 +/- 1000.0\n",
      "dilep     3954.0 +/- 17.0    4380.0 +/- 7.0    167100.0 +/- 200.0\n",
      "sixJet      668.6 +/- 8.7    1491.0 +/- 5.0       3533.0 +/- 20.0\n",
      "oneBTag     586.3 +/- 8.2    1303.0 +/- 5.0         719.8 +/- 8.5\n",
      "SF          295.9 +/- 5.8    1179.0 +/- 4.0         672.4 +/- 7.8\n",
      "onZ         198.2 +/- 5.6    1122.0 +/- 4.0         661.8 +/- 7.7\n"
     ]
    }
   ],
   "source": [
    "cutflow = getCutFlowTable(output, processes=['TTW', 'TTZ', 'diboson'], lines=['skim', 'dilep','sixJet','oneBTag','SF','onZ'], significantFigures=4)"
   ]
  },
  {
   "cell_type": "code",
   "execution_count": 10,
   "metadata": {},
   "outputs": [
    {
     "data": {
      "text/html": [
       "<div>\n",
       "<style scoped>\n",
       "    .dataframe tbody tr th:only-of-type {\n",
       "        vertical-align: middle;\n",
       "    }\n",
       "\n",
       "    .dataframe tbody tr th {\n",
       "        vertical-align: top;\n",
       "    }\n",
       "\n",
       "    .dataframe thead th {\n",
       "        text-align: right;\n",
       "    }\n",
       "</style>\n",
       "<table border=\"1\" class=\"dataframe\">\n",
       "  <thead>\n",
       "    <tr style=\"text-align: right;\">\n",
       "      <th></th>\n",
       "      <th>TTW</th>\n",
       "      <th>TTZ</th>\n",
       "      <th>diboson</th>\n",
       "    </tr>\n",
       "  </thead>\n",
       "  <tbody>\n",
       "    <tr>\n",
       "      <th>skim</th>\n",
       "      <td>27870.0 +/- 60.0</td>\n",
       "      <td>14820.0 +/- 10.0</td>\n",
       "      <td>1083000.0 +/- 1000.0</td>\n",
       "    </tr>\n",
       "    <tr>\n",
       "      <th>dilep</th>\n",
       "      <td>3954.0 +/- 17.0</td>\n",
       "      <td>4380.0 +/- 7.0</td>\n",
       "      <td>167100.0 +/- 200.0</td>\n",
       "    </tr>\n",
       "    <tr>\n",
       "      <th>sixJet</th>\n",
       "      <td>668.6 +/- 8.7</td>\n",
       "      <td>1491.0 +/- 5.0</td>\n",
       "      <td>3533.0 +/- 20.0</td>\n",
       "    </tr>\n",
       "    <tr>\n",
       "      <th>oneBTag</th>\n",
       "      <td>586.3 +/- 8.2</td>\n",
       "      <td>1303.0 +/- 5.0</td>\n",
       "      <td>719.8 +/- 8.5</td>\n",
       "    </tr>\n",
       "    <tr>\n",
       "      <th>SF</th>\n",
       "      <td>295.9 +/- 5.8</td>\n",
       "      <td>1179.0 +/- 4.0</td>\n",
       "      <td>672.4 +/- 7.8</td>\n",
       "    </tr>\n",
       "    <tr>\n",
       "      <th>onZ</th>\n",
       "      <td>198.2 +/- 5.6</td>\n",
       "      <td>1122.0 +/- 4.0</td>\n",
       "      <td>661.8 +/- 7.7</td>\n",
       "    </tr>\n",
       "  </tbody>\n",
       "</table>\n",
       "</div>"
      ],
      "text/plain": [
       "                      TTW               TTZ               diboson\n",
       "skim     27870.0 +/- 60.0  14820.0 +/- 10.0  1083000.0 +/- 1000.0\n",
       "dilep     3954.0 +/- 17.0    4380.0 +/- 7.0    167100.0 +/- 200.0\n",
       "sixJet      668.6 +/- 8.7    1491.0 +/- 5.0       3533.0 +/- 20.0\n",
       "oneBTag     586.3 +/- 8.2    1303.0 +/- 5.0         719.8 +/- 8.5\n",
       "SF          295.9 +/- 5.8    1179.0 +/- 4.0         672.4 +/- 7.8\n",
       "onZ         198.2 +/- 5.6    1122.0 +/- 4.0         661.8 +/- 7.7"
      ]
     },
     "execution_count": 10,
     "metadata": {},
     "output_type": "execute_result"
    }
   ],
   "source": [
    "cutflow"
   ]
  }
 ],
 "metadata": {
  "kernelspec": {
   "display_name": "coffeaEnv",
   "language": "python",
   "name": "coffeaenv"
  },
  "language_info": {
   "codemirror_mode": {
    "name": "ipython",
    "version": 3
   },
   "file_extension": ".py",
   "mimetype": "text/x-python",
   "name": "python",
   "nbconvert_exporter": "python",
   "pygments_lexer": "ipython3",
   "version": "3.6.4"
  }
 },
 "nbformat": 4,
 "nbformat_minor": 2
}

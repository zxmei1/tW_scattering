{
 "cells": [
  {
   "cell_type": "code",
   "execution_count": 1,
   "metadata": {},
   "outputs": [],
   "source": [
    "import uproot\n",
    "import awkward\n",
    "import numpy as np\n",
    "from uproot_methods import TLorentzVectorArray\n",
    "\n",
    "from coffea.processor import LazyDataFrame\n",
    "from coffea.analysis_objects import JaggedCandidateArray\n"
   ]
  },
  {
   "cell_type": "code",
   "execution_count": 2,
   "metadata": {},
   "outputs": [],
   "source": [
    "#fn = 'root://cmsxrootd.fnal.gov//store/mc/RunIIAutumn18NanoAODv6/ZZZ_TuneCP5_13TeV-amcatnlo-pythia8/NANOAODSIM/Nano25Oct2019_102X_upgrade2018_realistic_v20_ext1-v1/40000/0797B437-5B3E-1943-9F3D-9E84D64D1275.root'\n",
    "## uproot xrootd doesn't work in my environment\n",
    "fn = '/hadoop/cms/store/user/dspitzba/nanoAOD/ttw_samples/0p1p5/ZZZ_TuneCP5_13TeV-amcatnlo-pythia8__RunIIAutumn18NanoAODv6-Nano25Oct2019_102X_upgrade2018_realistic_v20_ext1-v1/ZZZ_TuneCP5_13TeV-amcatnlo-pythia8__RunIIAutumn18NanoAODv6-Nano25Oct2019_102X_upgrade2018_realistic_v20_ext1-v1_1.root'\n",
    "\n",
    "file = uproot.open(fn)"
   ]
  },
  {
   "cell_type": "code",
   "execution_count": 3,
   "metadata": {},
   "outputs": [],
   "source": [
    "tree = file['Events']\n",
    "df = LazyDataFrame(tree, flatten=True)\n",
    "\n",
    "jets = JaggedCandidateArray.candidatesfromcounts(\n",
    "    df['nJet'],\n",
    "    pt=df['Jet_pt'],\n",
    "    eta=df['Jet_eta'],\n",
    "    phi=df['Jet_phi'],\n",
    "    mass=df['Jet_mass'],\n",
    "    btag=df['Jet_btagDeepB'],\n",
    "    #ctag=df['Jet_btagDeepC'],\n",
    ")\n",
    "muons = JaggedCandidateArray.candidatesfromcounts(\n",
    "    df['nMuon'],\n",
    "    pt=df['Muon_pt'],\n",
    "    eta=df['Muon_eta'],\n",
    "    phi=df['Muon_phi'],\n",
    "    mass= 0 * df['Muon_pt'],\n",
    ")"
   ]
  },
  {
   "cell_type": "code",
   "execution_count": 5,
   "metadata": {},
   "outputs": [
    {
     "data": {
      "text/plain": [
       "<JaggedArray [[143.0 71.9375 48.34375 41.0625 18.53125 17.84375] [193.5 149.75 63.09375 ... 28.40625 20.40625 16.5625] [118.75 58.5625 42.5 ... 23.34375 22.1875 15.203125] ... [176.5 150.125 94.4375 ... 21.828125 18.21875 16.71875] [366.75 289.75 169.25 ... 18.09375 17.21875 16.875] [201.125 75.125 37.5 33.96875 15.203125]] at 0x7f26905c2cf8>"
      ]
     },
     "execution_count": 5,
     "metadata": {},
     "output_type": "execute_result"
    }
   ],
   "source": [
    "# example for getting events with at least one jet with pt>100 GeV\n",
    "jets[(jets.pt>100).sum()>0].pt"
   ]
  },
  {
   "cell_type": "code",
   "execution_count": 38,
   "metadata": {},
   "outputs": [
    {
     "name": "stderr",
     "output_type": "stream",
     "text": [
      "/home/users/dspitzba/TTW/CMSSW_10_2_9/src/tW_scattering/coffeaEnv/lib/python3.6/site-packages/awkward/array/jagged.py:1035: RuntimeWarning: invalid value encountered in greater\n",
      "  result = getattr(ufunc, method)(*inputs, **kwargs)\n",
      "/home/users/dspitzba/TTW/CMSSW_10_2_9/src/tW_scattering/coffeaEnv/lib/python3.6/site-packages/awkward/array/jagged.py:1035: RuntimeWarning: invalid value encountered in less\n",
      "  result = getattr(ufunc, method)(*inputs, **kwargs)\n"
     ]
    }
   ],
   "source": [
    "bjets = jets[(jets['btag']>0.8)] # random selection for b-tags\n",
    "lightjets = jets[(jets['btag']<0.9)] # not exactly anti-selecting jets so to have an overlap\n",
    "leadingbjet = bjets[bjets.pt.argmax()]"
   ]
  },
  {
   "cell_type": "code",
   "execution_count": 48,
   "metadata": {},
   "outputs": [
    {
     "data": {
      "text/plain": [
       "<JaggedArray [[143.0 71.9375 41.0625 18.53125 17.84375] [193.5 149.75 45.1875 29.875 28.40625 16.5625] [86.625 82.5625 62.46875 47.25] ... [150.125 94.4375 79.8125 ... 21.828125 18.21875 16.71875] [366.75 289.75 169.25 ... 18.09375 17.21875 16.875] [201.125 75.125 33.96875 15.203125]] at 0x7f2690453278>"
      ]
     },
     "execution_count": 48,
     "metadata": {},
     "output_type": "execute_result"
    }
   ],
   "source": [
    "lightjets[~lightjets.match(leadingbjet, deltaRCut=0.4)].pt"
   ]
  },
  {
   "cell_type": "code",
   "execution_count": 45,
   "metadata": {},
   "outputs": [
    {
     "data": {
      "text/plain": [
       "<JaggedArray [[48.34375 41.0625] [63.09375 20.40625] [] ... [176.5] [] [37.5]] at 0x7f2690445fd0>"
      ]
     },
     "execution_count": 45,
     "metadata": {},
     "output_type": "execute_result"
    }
   ],
   "source": [
    "bjets.pt"
   ]
  },
  {
   "cell_type": "code",
   "execution_count": 46,
   "metadata": {},
   "outputs": [
    {
     "data": {
      "text/plain": [
       "<JaggedArray [[143.0 71.9375 41.0625 18.53125 17.84375] [193.5 149.75 63.09375 ... 29.875 28.40625 16.5625] [86.625 82.5625 62.46875 47.25] ... [176.5 150.125 94.4375 ... 21.828125 18.21875 16.71875] [366.75 289.75 169.25 ... 18.09375 17.21875 16.875] [201.125 75.125 37.5 33.96875 15.203125]] at 0x7f26903c8e48>"
      ]
     },
     "execution_count": 46,
     "metadata": {},
     "output_type": "execute_result"
    }
   ],
   "source": [
    "lightjets.pt"
   ]
  },
  {
   "cell_type": "code",
   "execution_count": 58,
   "metadata": {},
   "outputs": [
    {
     "data": {
      "text/plain": [
       "<JaggedArray [[True True True True False] [True True True ... True True True] [False False False False] ... [True False True ... True False True] [False False False ... False False False] [True True True True False]] at 0x7f26903a9828>"
      ]
     },
     "execution_count": 58,
     "metadata": {},
     "output_type": "execute_result"
    }
   ],
   "source": [
    "lightjets.match(leadingbjet, deltaRCut=3.8)"
   ]
  },
  {
   "cell_type": "code",
   "execution_count": 12,
   "metadata": {},
   "outputs": [
    {
     "data": {
      "text/plain": [
       "<JaggedArrayMethods [[<Row 796> <Row 797> <Row 798> <Row 799> <Row 800> <Row 801>] [<Row 1211> <Row 1212> <Row 1213> ... <Row 1217> <Row 1218> <Row 1219>] [<Row 1687> <Row 1688> <Row 1689> ... <Row 1694> <Row 1695> <Row 1696>] ... [<Row 281776> <Row 281777> <Row 281778> ... <Row 281781> <Row 281782> <Row 281783>] [<Row 282998> <Row 282999> <Row 283000> <Row 283001> <Row 283002> <Row 283003>] [<Row 285237> <Row 285238> <Row 285239> ... <Row 285249> <Row 285250> <Row 285251>]] at 0x7fc29dd0ce80>"
      ]
     },
     "execution_count": 12,
     "metadata": {},
     "output_type": "execute_result"
    }
   ],
   "source": [
    "jets[((df['MET_pt']>200) & (df['nLepton']==2))]"
   ]
  },
  {
   "cell_type": "code",
   "execution_count": 9,
   "metadata": {},
   "outputs": [
    {
     "data": {
      "text/plain": [
       "32928"
      ]
     },
     "execution_count": 9,
     "metadata": {},
     "output_type": "execute_result"
    }
   ],
   "source": [
    "len(jets.pt)"
   ]
  },
  {
   "cell_type": "code",
   "execution_count": null,
   "metadata": {},
   "outputs": [],
   "source": []
  }
 ],
 "metadata": {
  "kernelspec": {
   "display_name": "coffeaEnv",
   "language": "python",
   "name": "coffeaenv"
  },
  "language_info": {
   "codemirror_mode": {
    "name": "ipython",
    "version": 3
   },
   "file_extension": ".py",
   "mimetype": "text/x-python",
   "name": "python",
   "nbconvert_exporter": "python",
   "pygments_lexer": "ipython3",
   "version": "3.6.4"
  }
 },
 "nbformat": 4,
 "nbformat_minor": 2
}
